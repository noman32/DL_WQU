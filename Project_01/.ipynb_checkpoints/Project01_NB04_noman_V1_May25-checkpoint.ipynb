{
 "cells": [
  {
   "cell_type": "markdown",
   "id": "bd3f7404",
   "metadata": {},
   "source": [
    "# Project 4: From a Neuron to a Network (MLP)"
   ]
  },
  {
   "cell_type": "markdown",
   "id": "f277de08",
   "metadata": {},
   "source": [
    "## 📚 Section 1: Why Linear Stacking Alone is Not Enough"
   ]
  },
  {
   "cell_type": "markdown",
   "id": "e940255f",
   "metadata": {},
   "source": [
    "### 🧠 Markdown Cell 1.1: Conceptual Introduction"
   ]
  },
  {
   "cell_type": "markdown",
   "id": "41056468",
   "metadata": {},
   "source": [
    "# 1.1 Why Linear Stacking Alone is Not Enough\n",
    "\n",
    "✅ Let's quickly recall:\n",
    "\n",
    "- A **linear model** is simply:  \n",
    "  $$\n",
    "  \\hat{y} = W \\cdot X + b\n",
    "  $$\n",
    "\n",
    "- If we stack multiple linear transformations without any **non-linearity** (i.e., no activation function),  \n",
    "  the overall result is **still just a linear transformation**!\n",
    "\n",
    "---\n",
    "\n",
    "### 🔵 Example:\n",
    "\n",
    "Suppose:\n",
    "\n",
    "- First layer: $h = W_1 \\cdot X + b_1$  \n",
    "- Second layer: $\\hat{y} = W_2 \\cdot h + b_2$\n",
    "\n",
    "If we substitute $h$ into $\\hat{y}$, we get:\n",
    "\n",
    "$$\n",
    "\\hat{y} = W_2 (W_1 X + b_1) + b_2 = (W_2 W_1)X + (W_2 b_1 + b_2)\n",
    "$$\n",
    "\n",
    "✅ This is again **just another linear transformation** — nothing nonlinear is happening here.\n",
    "\n",
    "---\n",
    "\n",
    "### 🔔 Key Insight:\n",
    "\n",
    "- **Without activation functions,** no matter how many linear layers you stack, the model is still **linear**.  \n",
    "- Therefore, the model **cannot learn complex patterns** like curves, edges, or non-linear relationships!\n",
    "\n"
   ]
  },
  {
   "cell_type": "markdown",
   "id": "1169324b",
   "metadata": {},
   "source": [
    "### ✍️ MCQ 1.1: Quick Recall Check"
   ]
  },
  {
   "cell_type": "markdown",
   "id": "8c57cfdb",
   "metadata": {},
   "source": [
    "# 🛠️ Practice Exercise 1.1: Tiny MCQ\n",
    "\n",
    "✅ Choose the correct answers:\n",
    "\n",
    "---\n",
    "\n",
    "**Q1. What happens if you stack multiple linear layers without activation functions?**\n",
    "\n",
    "- [x] The model behaves like a single linear transformation\n",
    "- [ ] The model becomes more nonlinear\n",
    "- [ ] The model can fit curves better\n",
    "- [ ] The model acts like a decision tree\n",
    "\n",
    "✅ Write your selected answer.\n",
    "\n",
    "---\n"
   ]
  },
  {
   "cell_type": "markdown",
   "id": "9250c54e",
   "metadata": {},
   "source": [
    "## 📚 Section 2: What are Hyperparameters?"
   ]
  },
  {
   "cell_type": "markdown",
   "id": "1862d282",
   "metadata": {},
   "source": [
    "# 2.1 What Are Hyperparameters?\n",
    "\n",
    "✅ In machine learning and deep learning, **hyperparameters** are:\n",
    "\n",
    "- **Values not learned by the model during training.**\n",
    "- **We set them manually before training begins.**\n",
    "\n",
    "---\n",
    "\n",
    "🔵 **Examples of Hyperparameters:**\n",
    "\n",
    "| Hyperparameter | Meaning |\n",
    "|:---|:---|\n",
    "| Learning Rate | How big a step we take in each update |\n",
    "| Number of Hidden Layers | How many layers in the model |\n",
    "| Number of Neurons per Layer | How many units inside each layer |\n",
    "| Activation Function | Type of non-linearity used (e.g., ReLU, Sigmoid) |\n",
    "| Number of Epochs | How many times the dataset is passed through |\n",
    "| Batch Size | How many samples we train at once |\n",
    "\n",
    "---\n",
    "\n",
    "🔔 **Key Insight:**\n",
    "- Hyperparameters greatly affect **how well** the model trains.\n",
    "- Choosing good hyperparameters can improve **accuracy**, **speed**, and **generalization**.\n",
    "\n",
    "---\n"
   ]
  },
  {
   "cell_type": "markdown",
   "id": "5d6f1446",
   "metadata": {},
   "source": [
    "### ✍️ Practice Task 2.1: Short Listing Exercise "
   ]
  },
  {
   "cell_type": "markdown",
   "id": "f6b6f67a",
   "metadata": {},
   "source": [
    "# 🛠️ Practice Exercise 2.1: List Key Hyperparameters\n",
    "\n",
    "✅ Your Task:\n",
    "\n",
    "- Write down 5 hyperparameters you think you would need to set when training a deep learning model.\n",
    "- You can choose from the examples above, or add others you may know!\n",
    "\n",
    "✅ Write your list below.\n",
    "\n",
    "---\n"
   ]
  },
  {
   "cell_type": "markdown",
   "id": "2baa00b7",
   "metadata": {},
   "source": [
    "## 📚 Section 3: Building an MLP (Multi-Layer Perceptron) using nn.Sequential"
   ]
  },
  {
   "cell_type": "markdown",
   "id": "f4b3a40c",
   "metadata": {},
   "source": [
    "### 🧠 Markdown Cell 3.1: Introduction to MLP and nn.Sequential"
   ]
  },
  {
   "cell_type": "markdown",
   "id": "8fc0e569",
   "metadata": {},
   "source": [
    "# 3.1 Building a Simple MLP using `nn.Sequential`\n",
    "\n",
    "✅ A **Multi-Layer Perceptron (MLP)** is simply:\n",
    "\n",
    "- One or more **linear layers** (fully connected layers)\n",
    "- **Activation functions** inserted between layers\n",
    "- A final **output layer** suited for the task (e.g., regression or classification)\n",
    "\n",
    "---\n",
    "\n",
    "🔵 **Typical Structure for a Regression MLP:**\n",
    "\n",
    "- Input Layer → Hidden Layer (Linear + Activation) → Output Layer (Linear)\n",
    "\n",
    "---\n",
    "\n",
    "🔵 **PyTorch Shortcut: `nn.Sequential`**\n",
    "\n",
    "`nn.Sequential` allows us to **stack layers one after another** easily:\n",
    "\n",
    "```python\n",
    "model = nn.Sequential(\n",
    "    nn.Linear(input_size, hidden_size),\n",
    "    nn.ReLU(),\n",
    "    nn.Linear(hidden_size, output_size)\n",
    ")\n",
    "```\n",
    "- `nn.Linear`: Applies a **linear transformation**:  \n",
    "  $$\n",
    "  y = W x + b\n",
    "  $$\n",
    "\n",
    "- `nn.ReLU`: Applies the **ReLU activation function**:  \n",
    "  $$\n",
    "  \\text{ReLU}(x) = \\max(0, x)\n",
    "  $$\n",
    "\n",
    "🔔 Why use Sequential?\n",
    "\n",
    "- Quick prototyping\n",
    "\n",
    "- Easier for small models\n",
    "\n",
    "- Great for learning"
   ]
  },
  {
   "cell_type": "markdown",
   "id": "4275b184",
   "metadata": {},
   "source": [
    "### 🖥️ Code Cell 3.1: Example MLP with Random Dimensions"
   ]
  },
  {
   "cell_type": "code",
   "execution_count": 74,
   "id": "bc52b9f5",
   "metadata": {},
   "outputs": [
    {
     "name": "stdout",
     "output_type": "stream",
     "text": [
      "Sequential(\n",
      "  (0): Linear(in_features=8, out_features=16, bias=True)\n",
      "  (1): ReLU()\n",
      "  (2): Linear(in_features=16, out_features=1, bias=True)\n",
      ")\n"
     ]
    }
   ],
   "source": [
    "import torch\n",
    "import torch.nn as nn\n",
    "\n",
    "# Example dimensions\n",
    "input_size = 8    # Concrete dataset has 8 features\n",
    "hidden_size = 16  # Number of neurons in hidden layer\n",
    "output_size = 1   # Predicting one continuous value (Concrete Strength)\n",
    "\n",
    "# Define model\n",
    "simple_mlp = nn.Sequential(\n",
    "    nn.Linear(input_size, hidden_size),\n",
    "    nn.ReLU(),\n",
    "    nn.Linear(hidden_size, output_size)\n",
    ")\n",
    "\n",
    "# Print model summary\n",
    "print(simple_mlp)"
   ]
  },
  {
   "cell_type": "markdown",
   "id": "232e0bfa",
   "metadata": {},
   "source": [
    "### ✍️ Practice Task 3.1: Small Student Practice"
   ]
  },
  {
   "cell_type": "markdown",
   "id": "991fc2ea",
   "metadata": {},
   "source": [
    "# 🛠️ Practice Exercise 3.1: Modify the MLP\n",
    "\n",
    "✅ Your Task:\n",
    "\n",
    "- Change the number of hidden neurons from **16 to 32**.\n",
    "- Add a second hidden layer with **16 neurons** and **ReLU** activation again.\n",
    "- Your model should have **two hidden layers** now!\n",
    "\n",
    "✅ Write your code in the code cell below.\n",
    "\n",
    "✅ Use input_size=8 and output_size=1 as before.\n",
    "\n",
    "---\n"
   ]
  },
  {
   "cell_type": "markdown",
   "id": "6def0707",
   "metadata": {},
   "source": [
    "✅ Encourages small architecture tweaks — students touch the MLP design themselves!"
   ]
  },
  {
   "cell_type": "markdown",
   "id": "07f73df5",
   "metadata": {},
   "source": [
    "### 🖥️ Example Solution (hidden after student practice)"
   ]
  },
  {
   "cell_type": "code",
   "execution_count": 75,
   "id": "b35b2e55",
   "metadata": {},
   "outputs": [
    {
     "name": "stdout",
     "output_type": "stream",
     "text": [
      "Sequential(\n",
      "  (0): Linear(in_features=8, out_features=32, bias=True)\n",
      "  (1): ReLU()\n",
      "  (2): Linear(in_features=32, out_features=16, bias=True)\n",
      "  (3): ReLU()\n",
      "  (4): Linear(in_features=16, out_features=1, bias=True)\n",
      ")\n"
     ]
    }
   ],
   "source": [
    "# Student example solution (can be hidden for reveal)\n",
    "\n",
    "modified_mlp = nn.Sequential(\n",
    "    nn.Linear(input_size, 32),  # 1st hidden layer\n",
    "    nn.ReLU(),\n",
    "    nn.Linear(32, 16),          # 2nd hidden layer\n",
    "    nn.ReLU(),\n",
    "    nn.Linear(16, output_size)  # Output layer\n",
    ")\n",
    "\n",
    "print(modified_mlp)\n"
   ]
  },
  {
   "cell_type": "markdown",
   "id": "318be16f",
   "metadata": {},
   "source": [
    "## 📚 Section 4: Building an MLP (Custom Class using nn.Module)"
   ]
  },
  {
   "cell_type": "markdown",
   "id": "2fe0d6d4",
   "metadata": {},
   "source": [
    "### 🧠 Markdown Cell 4.1: Why Define a Custom Class?"
   ]
  },
  {
   "cell_type": "markdown",
   "id": "07e248ab",
   "metadata": {},
   "source": [
    "# 4.1 Building a Custom MLP Using `nn.Module`\n",
    "\n",
    "✅ While `nn.Sequential` is very quick and useful for small models,  \n",
    "in **real projects**, we usually define our own **custom neural network classes**.\n",
    "\n",
    "---\n",
    "\n",
    "🔵 **Why define a custom class?**\n",
    "\n",
    "- More control over the architecture\n",
    "- Add complex behavior (e.g., conditional layers, multiple outputs)\n",
    "- Easier for future extensions\n",
    "\n",
    "---\n",
    "\n",
    "🔵 **Basic Structure of a Custom `nn.Module`**\n",
    "\n",
    "1. Inherit from `nn.Module`\n",
    "2. Define layers inside `__init__`\n",
    "3. Define the forward pass in `forward()`\n",
    "\n",
    "```python\n",
    "class MyModel(nn.Module):\n",
    "    def __init__(self):\n",
    "        super().__init__()\n",
    "        # define layers here\n",
    "\n",
    "    def forward(self, x):\n",
    "        # apply layers step-by-step\n",
    "        return output\n",
    "```\n",
    "🔔 Important:\n",
    "\n",
    "- __init__() is called when the model is created.\n",
    "\n",
    "- forward(x) defines how input x flows through the network."
   ]
  },
  {
   "cell_type": "markdown",
   "id": "eee365b4",
   "metadata": {},
   "source": [
    "\n",
    "✅ Friendly transition into custom class building."
   ]
  },
  {
   "cell_type": "markdown",
   "id": "b5d4d3fa",
   "metadata": {},
   "source": [
    "### 🖥️ Code Cell 4.1: Example Custom MLP Class"
   ]
  },
  {
   "cell_type": "code",
   "execution_count": 6,
   "id": "09548cd0",
   "metadata": {},
   "outputs": [
    {
     "name": "stdout",
     "output_type": "stream",
     "text": [
      "ConcreteMLP(\n",
      "  (fc1): Linear(in_features=8, out_features=16, bias=True)\n",
      "  (relu): ReLU()\n",
      "  (fc2): Linear(in_features=16, out_features=1, bias=True)\n",
      ")\n"
     ]
    }
   ],
   "source": [
    "import torch\n",
    "import torch.nn as nn\n",
    "\n",
    "# Custom MLP class for regression\n",
    "class ConcreteMLP(nn.Module):\n",
    "    def __init__(self, input_size=8, hidden_size=16, output_size=1):\n",
    "        super(ConcreteMLP, self).__init__()\n",
    "        \n",
    "        self.fc1 = nn.Linear(input_size, hidden_size)  # First hidden layer\n",
    "        self.relu = nn.ReLU()                          # Activation\n",
    "        self.fc2 = nn.Linear(hidden_size, output_size) # Output layer\n",
    "    \n",
    "    def forward(self, x):\n",
    "        x = self.fc1(x)   # Apply first linear layer\n",
    "        x = self.relu(x)  # Apply ReLU activation\n",
    "        x = self.fc2(x)   # Apply output layer\n",
    "        return x\n",
    "\n",
    "# Create model instance\n",
    "model = ConcreteMLP()\n",
    "print(model)"
   ]
  },
  {
   "cell_type": "markdown",
   "id": "64dff3bb",
   "metadata": {},
   "source": [
    "### ✍️ Practice Task 4.1: Small Student Practice"
   ]
  },
  {
   "cell_type": "markdown",
   "id": "a0afcf7e",
   "metadata": {},
   "source": [
    "# 🛠️ Practice Exercise 4.1: Modify the Custom MLP\n",
    "\n",
    "✅ Your Task:\n",
    "\n",
    "- Create a modified version of the MLP that has **two hidden layers** instead of one.\n",
    "- Structure:\n",
    "  - Linear(8 → 32)\n",
    "  - ReLU\n",
    "  - Linear(32 → 16)\n",
    "  - ReLU\n",
    "  - Linear(16 → 1)\n",
    "\n",
    "✅ Hints:\n",
    "- Add another `nn.Linear` layer and another `nn.ReLU()`\n",
    "- Update the `forward` method to use all layers step-by-step.\n",
    "\n",
    "✅ Write your code in the code cell below.\n",
    "\n",
    "---\n"
   ]
  },
  {
   "cell_type": "markdown",
   "id": "6ceeca1c",
   "metadata": {},
   "source": [
    "✅ Forces students to understand layering and forward pass logic."
   ]
  },
  {
   "cell_type": "markdown",
   "id": "fae44ad3",
   "metadata": {},
   "source": [
    "### 🖥️ Example Solution (after practice)"
   ]
  },
  {
   "cell_type": "code",
   "execution_count": 7,
   "id": "f456f5da",
   "metadata": {},
   "outputs": [
    {
     "name": "stdout",
     "output_type": "stream",
     "text": [
      "ModifiedConcreteMLP(\n",
      "  (fc1): Linear(in_features=8, out_features=32, bias=True)\n",
      "  (relu1): ReLU()\n",
      "  (fc2): Linear(in_features=32, out_features=16, bias=True)\n",
      "  (relu2): ReLU()\n",
      "  (fc3): Linear(in_features=16, out_features=1, bias=True)\n",
      ")\n"
     ]
    }
   ],
   "source": [
    "# Student example solution\n",
    "\n",
    "class ModifiedConcreteMLP(nn.Module):\n",
    "    def __init__(self):\n",
    "        super(ModifiedConcreteMLP, self).__init__()\n",
    "        \n",
    "        self.fc1 = nn.Linear(8, 32)\n",
    "        self.relu1 = nn.ReLU()\n",
    "        self.fc2 = nn.Linear(32, 16)\n",
    "        self.relu2 = nn.ReLU()\n",
    "        self.fc3 = nn.Linear(16, 1)\n",
    "    \n",
    "    def forward(self, x):\n",
    "        x = self.fc1(x)\n",
    "        x = self.relu1(x)\n",
    "        x = self.fc2(x)\n",
    "        x = self.relu2(x)\n",
    "        x = self.fc3(x)\n",
    "        return x\n",
    "\n",
    "# Create instance and print\n",
    "mod_model = ModifiedConcreteMLP()\n",
    "print(mod_model)\n"
   ]
  },
  {
   "cell_type": "markdown",
   "id": "a15f720f",
   "metadata": {},
   "source": [
    "✅ Gives them instant feedback and makes sure they truly learn building MLPs manually."
   ]
  },
  {
   "cell_type": "markdown",
   "id": "90db2445",
   "metadata": {},
   "source": [
    "## 📚 Section 5: Preparing the Concrete Dataset "
   ]
  },
  {
   "cell_type": "markdown",
   "id": "a9ea1bfe",
   "metadata": {},
   "source": [
    "### 🧠 Markdown Cell 5.1: Introduction to Data Preparation"
   ]
  },
  {
   "cell_type": "markdown",
   "id": "061f2649",
   "metadata": {},
   "source": [
    "### 5.1 Preparing the Concrete Dataset\n",
    "\n",
    "✅ Now that we have built our MLP models,  \n",
    "we need to **load and prepare the Concrete dataset** for training!\n",
    "\n",
    "---\n",
    "\n",
    "🔵 **Steps to Follow:**\n",
    "\n",
    "1. Load the dataset from a CSV file.\n",
    "2. Separate inputs (features) and targets (labels).\n",
    "3. Convert data to PyTorch tensors.\n",
    "4. Split into training and testing sets (e.g., 80% train, 20% test).\n",
    "\n",
    "---\n",
    "\n",
    "🔔 **Reminder:**\n",
    "- **Inputs** = 8 columns (cement, slag, water, etc.)\n",
    "- **Target** = 1 column (concrete compressive strength)\n",
    "\n",
    "✅ Let's get started!\n",
    "\n",
    "---\n"
   ]
  },
  {
   "cell_type": "markdown",
   "id": "319f3a99",
   "metadata": {},
   "source": [
    "### 🖥️ Code Cell 5.1: Load and Explore Dataset"
   ]
  },
  {
   "cell_type": "code",
   "execution_count": 3,
   "id": "ae7ae962",
   "metadata": {},
   "outputs": [
    {
     "name": "stdout",
     "output_type": "stream",
     "text": [
      "Shape of dataset: (1030, 9)\n",
      "\n",
      "First 5 rows:\n",
      "   Cement (component 1)(kg in a m^3 mixture)  \\\n",
      "0                                      540.0   \n",
      "1                                      540.0   \n",
      "2                                      332.5   \n",
      "3                                      332.5   \n",
      "4                                      198.6   \n",
      "\n",
      "   Blast Furnace Slag (component 2)(kg in a m^3 mixture)  \\\n",
      "0                                                0.0       \n",
      "1                                                0.0       \n",
      "2                                              142.5       \n",
      "3                                              142.5       \n",
      "4                                              132.4       \n",
      "\n",
      "   Fly Ash (component 3)(kg in a m^3 mixture)  \\\n",
      "0                                         0.0   \n",
      "1                                         0.0   \n",
      "2                                         0.0   \n",
      "3                                         0.0   \n",
      "4                                         0.0   \n",
      "\n",
      "   Water  (component 4)(kg in a m^3 mixture)  \\\n",
      "0                                      162.0   \n",
      "1                                      162.0   \n",
      "2                                      228.0   \n",
      "3                                      228.0   \n",
      "4                                      192.0   \n",
      "\n",
      "   Superplasticizer (component 5)(kg in a m^3 mixture)  \\\n",
      "0                                                2.5     \n",
      "1                                                2.5     \n",
      "2                                                0.0     \n",
      "3                                                0.0     \n",
      "4                                                0.0     \n",
      "\n",
      "   Coarse Aggregate  (component 6)(kg in a m^3 mixture)  \\\n",
      "0                                             1040.0      \n",
      "1                                             1055.0      \n",
      "2                                              932.0      \n",
      "3                                              932.0      \n",
      "4                                              978.4      \n",
      "\n",
      "   Fine Aggregate (component 7)(kg in a m^3 mixture)  Age (day)  \\\n",
      "0                                              676.0         28   \n",
      "1                                              676.0         28   \n",
      "2                                              594.0        270   \n",
      "3                                              594.0        365   \n",
      "4                                              825.5        360   \n",
      "\n",
      "   Concrete compressive strength(MPa, megapascals)   \n",
      "0                                             79.99  \n",
      "1                                             61.89  \n",
      "2                                             40.27  \n",
      "3                                             41.05  \n",
      "4                                             44.30  \n"
     ]
    }
   ],
   "source": [
    "import pandas as pd\n",
    "import torch\n",
    "\n",
    "# Load Concrete dataset\n",
    "data = pd.read_csv(r\"D:\\OneDrive\\WorldQuant_DeepLearning\\Nomans_Work_DL_WQU\\concrete+compressive+strength\\Concrete_Data.csv\")\n",
    "\n",
    "print(\"Shape of dataset:\", data.shape)\n",
    "print(\"\\nFirst 5 rows:\")\n",
    "print(data.head())\n"
   ]
  },
  {
   "cell_type": "markdown",
   "id": "441de34b",
   "metadata": {},
   "source": [
    "### 🧠 Markdown Cell 5.2: Extract Inputs and Targets"
   ]
  },
  {
   "cell_type": "markdown",
   "id": "621e0caa",
   "metadata": {},
   "source": [
    "### 5.2 Extract Inputs and Targets\n",
    "\n",
    "✅ Now we will:\n",
    "\n",
    "- Select the first 8 columns as **inputs** (features)\n",
    "- Select the last column as **targets** (labels)\n",
    "\n",
    "✅ Then we will **convert** them into **PyTorch tensors**.\n",
    "\n",
    "---\n"
   ]
  },
  {
   "cell_type": "markdown",
   "id": "ac837e63",
   "metadata": {},
   "source": [
    "### 🖥️ Code Cell 5.2: Convert to Tensors"
   ]
  },
  {
   "cell_type": "code",
   "execution_count": 8,
   "id": "418f8834",
   "metadata": {},
   "outputs": [
    {
     "name": "stdout",
     "output_type": "stream",
     "text": [
      "Inputs Tensor Shape: torch.Size([1030, 8])\n",
      "Targets Tensor Shape: torch.Size([1030, 1])\n"
     ]
    }
   ],
   "source": [
    "# Split into inputs and targets\n",
    "inputs = data.iloc[:, :-1]   # All columns except the last\n",
    "targets = data.iloc[:, -1]   # Only the last column\n",
    "\n",
    "# Convert to tensors\n",
    "inputs_tensor = torch.tensor(inputs.values, dtype=torch.float32)\n",
    "targets_tensor = torch.tensor(targets.values, dtype=torch.float32).view(-1, 1)  # Make targets shape (N,1)\n",
    "\n",
    "print(\"Inputs Tensor Shape:\", inputs_tensor.shape)\n",
    "print(\"Targets Tensor Shape:\", targets_tensor.shape)\n"
   ]
  },
  {
   "cell_type": "markdown",
   "id": "297f8e86",
   "metadata": {},
   "source": [
    "### 🧠 Markdown Cell 5.3: Train-Test Split"
   ]
  },
  {
   "cell_type": "markdown",
   "id": "5946481c",
   "metadata": {},
   "source": [
    "### 5.3 Splitting into Training and Testing Sets\n",
    "\n",
    "✅ To check if our model **generalizes well**,  \n",
    "we split data into:\n",
    "\n",
    "- **Training Set** → Used to train the model (80%)\n",
    "- **Testing Set** → Used to evaluate how well the model works on unseen data (20%)\n",
    "\n",
    "✅ We will **shuffle** the data before splitting to avoid any bias.\n",
    "\n",
    "---\n"
   ]
  },
  {
   "cell_type": "markdown",
   "id": "a9944978",
   "metadata": {},
   "source": [
    "### 🖥️ Code Cell 5.3: Perform Train-Test Split"
   ]
  },
  {
   "cell_type": "code",
   "execution_count": 9,
   "id": "d2940643",
   "metadata": {},
   "outputs": [
    {
     "name": "stdout",
     "output_type": "stream",
     "text": [
      "Training set size: 824\n",
      "Test set size: 206\n"
     ]
    }
   ],
   "source": [
    "# Set random seed for reproducibility\n",
    "torch.manual_seed(42)\n",
    "\n",
    "# Total number of samples\n",
    "n_samples = inputs_tensor.shape[0]\n",
    "\n",
    "# Shuffle indices\n",
    "indices = torch.randperm(n_samples)\n",
    "\n",
    "# 80-20 split\n",
    "split_idx = int(n_samples * 0.8)\n",
    "\n",
    "train_indices = indices[:split_idx]\n",
    "test_indices = indices[split_idx:]\n",
    "\n",
    "# Create training and testing sets\n",
    "X_train = inputs_tensor[train_indices]\n",
    "y_train = targets_tensor[train_indices]\n",
    "\n",
    "X_test = inputs_tensor[test_indices]\n",
    "y_test = targets_tensor[test_indices]\n",
    "\n",
    "print(\"Training set size:\", X_train.shape[0])\n",
    "print(\"Test set size:\", X_test.shape[0])\n"
   ]
  },
  {
   "cell_type": "markdown",
   "id": "11d8cb8b",
   "metadata": {},
   "source": [
    "### ✍️ Practice Task 5.1: Quick Practice"
   ]
  },
  {
   "cell_type": "markdown",
   "id": "99330b10",
   "metadata": {},
   "source": [
    "# 🛠️ Practice Exercise 5.1: Quick Check\n",
    "\n",
    "✅ Your Task:\n",
    "\n",
    "- Print the mean of the training targets (`y_train.mean()`)\n",
    "- Print the mean of the test targets (`y_test.mean()`)\n",
    "\n",
    "✅ This checks if the split has balanced the target values.\n",
    "\n",
    "✅ Write your code in the cell below.\n",
    "\n",
    "---\n"
   ]
  },
  {
   "cell_type": "markdown",
   "id": "5013aab0",
   "metadata": {},
   "source": [
    "## 📚 Section 6: Training the MLP Model"
   ]
  },
  {
   "cell_type": "markdown",
   "id": "aabfe518",
   "metadata": {},
   "source": [
    "### 🧠 Markdown Cell 6.1: Training Setup and Strategy"
   ]
  },
  {
   "cell_type": "markdown",
   "id": "caf12815",
   "metadata": {},
   "source": [
    "### 6.1 Training the MLP Model\n",
    "\n",
    "✅ Now that we have:\n",
    "\n",
    "- A ready MLP model (Sequential or Custom Class)\n",
    "- Prepared Concrete dataset (inputs and targets)\n",
    "\n",
    "➡️ It's time to **train the model**!\n",
    "\n",
    "---\n",
    "\n",
    "🔵 **Training Process:**\n",
    "\n",
    "At each epoch (iteration over all training data):\n",
    "1. Forward Pass → Predict outputs\n",
    "2. Loss Computation → How wrong are we?\n",
    "3. Backward Pass → Calculate gradients\n",
    "4. Update Parameters → Using optimizer (SGD/Adam)\n",
    "\n",
    "✅ We will use:\n",
    "\n",
    "- `nn.MSELoss()` as the loss function (Mean Squared Error)\n",
    "- `torch.optim.SGD` or `torch.optim.Adam` as the optimizer\n",
    "\n",
    "---\n",
    "\n",
    "🔔 **Important Concepts:**\n",
    "\n",
    "- **Epoch**: One complete pass through the training dataset\n",
    "- **Loss**: How far our predictions are from true values\n",
    "- **Optimizer**: Algorithm to update weights to minimize loss\n",
    "\n",
    "---\n"
   ]
  },
  {
   "cell_type": "markdown",
   "id": "ff5cce7a",
   "metadata": {},
   "source": [
    "### 🖥️ Code Cell 6.1: Setup Loss and Optimizer"
   ]
  },
  {
   "cell_type": "code",
   "execution_count": 10,
   "id": "279e9b74",
   "metadata": {},
   "outputs": [
    {
     "name": "stdout",
     "output_type": "stream",
     "text": [
      "ConcreteMLP(\n",
      "  (fc1): Linear(in_features=8, out_features=16, bias=True)\n",
      "  (relu): ReLU()\n",
      "  (fc2): Linear(in_features=16, out_features=1, bias=True)\n",
      ")\n",
      "Adam (\n",
      "Parameter Group 0\n",
      "    amsgrad: False\n",
      "    betas: (0.9, 0.999)\n",
      "    capturable: False\n",
      "    differentiable: False\n",
      "    eps: 1e-08\n",
      "    foreach: None\n",
      "    fused: None\n",
      "    lr: 0.01\n",
      "    maximize: False\n",
      "    weight_decay: 0\n",
      ")\n"
     ]
    }
   ],
   "source": [
    "import torch.optim as optim\n",
    "\n",
    "# Create a fresh model (Sequential or Custom Class)\n",
    "model = ConcreteMLP()\n",
    "\n",
    "# Define Loss Function\n",
    "loss_fn = nn.MSELoss()\n",
    "\n",
    "# Define Optimizer\n",
    "optimizer = optim.Adam(model.parameters(), lr=0.01)  # or use SGD if preferred\n",
    "\n",
    "# Print\n",
    "print(model)\n",
    "print(optimizer)\n"
   ]
  },
  {
   "cell_type": "markdown",
   "id": "7ded002b",
   "metadata": {},
   "source": [
    "### 🧠 Markdown Cell 6.2: Training Loop Structure"
   ]
  },
  {
   "cell_type": "markdown",
   "id": "c2b27864",
   "metadata": {},
   "source": [
    "# 6.2 Training Loop Structure\n",
    "\n",
    "✅ Basic training loop structure:\n",
    "\n",
    "```python\n",
    "for epoch in range(num_epochs):\n",
    "    # 1. Forward pass: Compute predictions\n",
    "    y_pred = model(X_train)\n",
    "\n",
    "    # 2. Compute loss\n",
    "    loss = loss_fn(y_pred, y_train)\n",
    "\n",
    "    # 3. Backward pass: Compute gradients\n",
    "    loss.backward()\n",
    "\n",
    "    # 4. Update parameters\n",
    "    optimizer.step()\n",
    "\n",
    "    # 5. Zero the gradients\n",
    "    optimizer.zero_grad()\n",
    "```\n",
    "\n",
    "🔔 Important to zero out gradients every epoch:\n",
    "\n",
    "- Otherwise gradients accumulate across epochs, causing wrong updates!\n",
    "\n"
   ]
  },
  {
   "cell_type": "markdown",
   "id": "a3269080",
   "metadata": {},
   "source": [
    "### ✍️ Practice Task 6.1: Students Complete the Training Loop"
   ]
  },
  {
   "cell_type": "markdown",
   "id": "0c012ef6",
   "metadata": {},
   "source": [
    "### 🛠️ Practice Exercise 6.1: Write Your First Full Training Loop\n",
    "\n",
    "✅ Your Task:\n",
    "\n",
    "- Train the model for **300 epochs**.\n",
    "- Print loss every **50 epochs**.\n",
    "- Store all training losses into a Python list (for future plotting).\n",
    "\n",
    "✅ Boilerplate Code Provided Below.  \n",
    "✅ Fill in the missing parts (marked by \"TODO\").\n",
    "\n",
    "---"
   ]
  },
  {
   "cell_type": "markdown",
   "id": "391f3040",
   "metadata": {},
   "source": [
    "### 🖥️ Code Cell 6.2: Boilerplate Training Loop (Students Fill TODOs)"
   ]
  },
  {
   "cell_type": "code",
   "execution_count": 11,
   "id": "d847e098",
   "metadata": {},
   "outputs": [
    {
     "name": "stdout",
     "output_type": "stream",
     "text": [
      "Epoch [50/300], Loss: 114.8348\n",
      "Epoch [100/300], Loss: 98.3977\n",
      "Epoch [150/300], Loss: 85.0294\n",
      "Epoch [200/300], Loss: 71.5019\n",
      "Epoch [250/300], Loss: 65.7544\n",
      "Epoch [300/300], Loss: 61.3917\n"
     ]
    }
   ],
   "source": [
    "# Set number of epochs\n",
    "num_epochs = 300\n",
    "\n",
    "# List to store loss values\n",
    "train_losses = []\n",
    "\n",
    "for epoch in range(num_epochs):\n",
    "    # ===== Forward pass =====\n",
    "    y_pred = model(X_train)  # TODO: Predict outputs\n",
    "\n",
    "    # ===== Loss computation =====\n",
    "    loss = loss_fn(y_pred, y_train)  # TODO: Compute loss\n",
    "\n",
    "    # ===== Backward pass =====\n",
    "    loss.backward()  # TODO: Compute gradients\n",
    "\n",
    "    # ===== Optimizer step =====\n",
    "    optimizer.step()  # TODO: Update model parameters\n",
    "\n",
    "    # ===== Zero gradients =====\n",
    "    optimizer.zero_grad()  # TODO: Clear old gradients\n",
    "\n",
    "    # ===== Save loss =====\n",
    "    train_losses.append(loss.item())\n",
    "\n",
    "    # ===== Print occasionally =====\n",
    "    if (epoch+1) % 50 == 0:\n",
    "        print(f\"Epoch [{epoch+1}/{num_epochs}], Loss: {loss.item():.4f}\")\n"
   ]
  },
  {
   "cell_type": "markdown",
   "id": "b6207bfe",
   "metadata": {},
   "source": [
    "## 📚 Section 7: Visualizing Training Loss"
   ]
  },
  {
   "cell_type": "markdown",
   "id": "8e757d96",
   "metadata": {},
   "source": [
    "### 🧠 Markdown Cell 7.1: Why Visualize the Loss?"
   ]
  },
  {
   "cell_type": "markdown",
   "id": "a4b5e02b",
   "metadata": {},
   "source": [
    "### 7.1 Why Visualize the Loss?\n",
    "\n",
    "✅ After training the model,  \n",
    "it's important to **visualize how the loss changed over epochs**.\n",
    "\n",
    "---\n",
    "\n",
    "🔵 **Why?**\n",
    "\n",
    "- See if the model is **learning properly**.\n",
    "- Detect if the learning is too slow or unstable.\n",
    "- Identify if there is **underfitting** (loss remains high) or **overfitting** (loss decreases and then rises on validation data).\n",
    "\n",
    "---\n",
    "\n",
    "🔔 **Good Signs:**\n",
    "- Training loss should **steadily decrease** over time.\n",
    "- If loss plateaus early, we might need **more epochs** or **better hyperparameters**.\n",
    "\n",
    "✅ Let's now plot the loss curve!\n",
    "\n",
    "---\n"
   ]
  },
  {
   "cell_type": "markdown",
   "id": "bb736a04",
   "metadata": {},
   "source": [
    "### 🖥️ Code Cell 7.1: Plot the Training Loss"
   ]
  },
  {
   "cell_type": "code",
   "execution_count": 12,
   "id": "e4d788e5",
   "metadata": {},
   "outputs": [
    {
     "data": {
      "image/png": "[encoded data removed]",
      "text/plain": [
       "<Figure size 640x480 with 1 Axes>"
      ]
     },
     "metadata": {},
     "output_type": "display_data"
    }
   ],
   "source": [
    "import matplotlib.pyplot as plt\n",
    "\n",
    "# Plot training loss curve\n",
    "plt.plot(range(num_epochs), train_losses)\n",
    "plt.xlabel('Epoch')\n",
    "plt.ylabel('Training Loss')\n",
    "plt.title('Training Loss Over Time')\n",
    "plt.grid(True)\n",
    "plt.show()\n"
   ]
  },
  {
   "cell_type": "markdown",
   "id": "adaa1a73",
   "metadata": {},
   "source": [
    "### ✍️ Practice Task 7.1: Students Customize the Plot"
   ]
  },
  {
   "cell_type": "markdown",
   "id": "8d4acae7",
   "metadata": {},
   "source": [
    "### 🛠️ Practice Exercise 7.1: Customize the Loss Plot\n",
    "\n",
    "✅ Your Task:\n",
    "\n",
    "- Change the line style (e.g., make it dashed `--`)\n",
    "- Add markers (e.g., circles `o` every 20 points)\n",
    "- Add a horizontal line showing the final loss value as reference.\n",
    "\n",
    "✅ Write your code in the code cell below.\n",
    "\n",
    "✅ Tip: Use `plt.axhline()` for horizontal reference lines.\n",
    "\n",
    "---\n"
   ]
  },
  {
   "cell_type": "markdown",
   "id": "03811fc2",
   "metadata": {},
   "source": [
    "### 🖥️ Example Solution (hidden for later)"
   ]
  },
  {
   "cell_type": "code",
   "execution_count": 14,
   "id": "ba5dcd6f",
   "metadata": {},
   "outputs": [
    {
     "data": {
      "image/png": "[encoded data removed]",
      "text/plain": [
       "<Figure size 640x480 with 1 Axes>"
      ]
     },
     "metadata": {},
     "output_type": "display_data"
    }
   ],
   "source": [
    "# Student example solution\n",
    "\n",
    "plt.plot(range(num_epochs), train_losses, '--o', markevery=20)\n",
    "plt.axhline(y=train_losses[-1], color='red', linestyle='dashed', label='Final Loss')\n",
    "\n",
    "plt.xlabel('Epoch')\n",
    "plt.ylabel('Training Loss')\n",
    "plt.title('Customized Training Loss Plot')\n",
    "plt.legend()\n",
    "plt.grid(True)\n",
    "plt.show()\n"
   ]
  },
  {
   "cell_type": "markdown",
   "id": "35a879c0",
   "metadata": {},
   "source": [
    "## 📚 Section 8: Evaluating the MLP"
   ]
  },
  {
   "cell_type": "markdown",
   "id": "e4ffa531",
   "metadata": {},
   "source": [
    "### 🧠 Markdown Cell 8.1: Why Evaluate on Test Set?"
   ]
  },
  {
   "cell_type": "markdown",
   "id": "20aef740",
   "metadata": {},
   "source": [
    "# 8.1 Evaluating the Model\n",
    "\n",
    "✅ After training,  \n",
    "we must **evaluate** the model on **unseen data (Test set)**.\n",
    "\n",
    "---\n",
    "\n",
    "🔵 **Why?**\n",
    "\n",
    "- To measure **how well** the model generalizes to new data.\n",
    "- A model that performs well on training but badly on test = **overfitting**.\n",
    "\n",
    "---\n",
    "\n",
    "🔵 **Steps to Evaluate:**\n",
    "\n",
    "1. Forward pass on Test data\n",
    "2. Calculate the Test Loss (e.g., MSE)\n",
    "\n",
    "---\n",
    "\n",
    "🔔 **Compare:**\n",
    "- Training Loss vs. Test Loss\n",
    "\n",
    "✅ Ideally:  \n",
    "Test Loss should be **slightly higher** than Training Loss,  \n",
    "but not **very high** (which indicates poor generalization).\n",
    "\n",
    "---\n"
   ]
  },
  {
   "cell_type": "markdown",
   "id": "f20f6b11",
   "metadata": {},
   "source": [
    "### 🖥️ Code Cell 8.1: Evaluate on Training and Test Data"
   ]
  },
  {
   "cell_type": "code",
   "execution_count": 16,
   "id": "09972181",
   "metadata": {},
   "outputs": [
    {
     "name": "stdout",
     "output_type": "stream",
     "text": [
      "Final Training Loss (MSE): 61.3254\n",
      "Final Testing Loss (MSE): 62.2095\n"
     ]
    }
   ],
   "source": [
    "# Evaluate model performance\n",
    "\n",
    "# Turn off gradient tracking (no need during evaluation)\n",
    "with torch.no_grad():\n",
    "    # Predict on train set\n",
    "    train_preds = model(X_train)\n",
    "    train_loss = loss_fn(train_preds, y_train)\n",
    "\n",
    "    # Predict on test set\n",
    "    test_preds = model(X_test)\n",
    "    test_loss = loss_fn(test_preds, y_test)\n",
    "\n",
    "print(f\"Final Training Loss (MSE): {train_loss.item():.4f}\")\n",
    "print(f\"Final Testing Loss (MSE): {test_loss.item():.4f}\")\n"
   ]
  },
  {
   "cell_type": "markdown",
   "id": "87b203a3",
   "metadata": {},
   "source": [
    "### ✍️ Practice Task 8.1: Deeper Student Practice"
   ]
  },
  {
   "cell_type": "markdown",
   "id": "20013319",
   "metadata": {},
   "source": [
    "# 🛠️ Practice Exercise 8.1: Deeper Evaluation\n",
    "\n",
    "✅ **Your Task:**\n",
    "\n",
    "- Calculate and print **Root Mean Squared Error (RMSE)** for both **training** and **testing** sets.\n",
    "\n",
    "---\n",
    "\n",
    "### ✅ Formula:\n",
    "\n",
    "$$\n",
    "\\text{RMSE} = \\sqrt{\\text{MSE}}\n",
    "$$\n",
    "\n",
    "---\n",
    "\n",
    "### ✅ Hints:\n",
    "\n",
    "- Use `torch.sqrt()` to compute the square root  \n",
    "- Use `.item()` to get the numerical value from a single-element tensor\n",
    "\n",
    "---\n",
    "\n",
    "✅ **Write your code below!**\n"
   ]
  },
  {
   "cell_type": "markdown",
   "id": "ce908099",
   "metadata": {},
   "source": [
    "### 🖥️ Example Solution (after practice)\n"
   ]
  },
  {
   "cell_type": "code",
   "execution_count": 17,
   "id": "a1c9363a",
   "metadata": {},
   "outputs": [
    {
     "name": "stdout",
     "output_type": "stream",
     "text": [
      "Training RMSE: 7.8311\n",
      "Testing RMSE: 7.8873\n"
     ]
    }
   ],
   "source": [
    "# Example Solution\n",
    "\n",
    "train_rmse = torch.sqrt(train_loss)\n",
    "test_rmse = torch.sqrt(test_loss)\n",
    "\n",
    "print(f\"Training RMSE: {train_rmse.item():.4f}\")\n",
    "print(f\"Testing RMSE: {test_rmse.item():.4f}\")"
   ]
  },
  {
   "cell_type": "markdown",
   "id": "d851250c",
   "metadata": {},
   "source": [
    "## 📚 Section 9: Reflection on Model Performance"
   ]
  },
  {
   "cell_type": "markdown",
   "id": "ec581a7c",
   "metadata": {},
   "source": [
    "### 🧠 Markdown Cell 9.1: Understanding Generalization"
   ]
  },
  {
   "cell_type": "markdown",
   "id": "6de84337",
   "metadata": {},
   "source": [
    "### 9.1 Reflection: Generalization, Overfitting, and Underfitting\n",
    "\n",
    "✅ Now that you have trained and evaluated your MLP,  \n",
    "let's reflect on the results!\n",
    "\n",
    "---\n",
    "\n",
    "🔵 **Generalization**\n",
    "\n",
    "- **Good generalization** means the model works well on both training and unseen test data.\n",
    "- The model should **not memorize** only the training set.\n",
    "\n",
    "---\n",
    "\n",
    "🔵 **Signs of Overfitting**\n",
    "\n",
    "- Training loss is low ✅\n",
    "- But test loss is **much higher** ❌\n",
    "- The model \"memorizes\" training data but **fails to generalize**.\n",
    "\n",
    "🔵 **Signs of Underfitting**\n",
    "\n",
    "- Both training and test losses are **high** ❌\n",
    "- The model is **too simple** to capture the underlying pattern.\n",
    "\n",
    "---\n",
    "\n",
    "✅ **Goal:**\n",
    "- Training loss ↓\n",
    "- Test loss ↓\n",
    "- Test loss slightly higher than training loss (acceptable).\n",
    "\n",
    "---\n"
   ]
  },
  {
   "cell_type": "markdown",
   "id": "b90c5f3a",
   "metadata": {},
   "source": [
    "### ✍️ Practice Task 9.1: Quick Critical Thinking"
   ]
  },
  {
   "cell_type": "markdown",
   "id": "9e5669e5",
   "metadata": {},
   "source": [
    "### 🛠️ Practice Exercise 9.1: Analyze Your Model\n",
    "\n",
    "✅ Your Task:\n",
    "\n",
    "- Look at your Training Loss and Testing Loss.\n",
    "- Answer the following questions:\n",
    "\n",
    "1. Is there a big gap between training and test loss? (Yes/No)\n",
    "2. Do you suspect overfitting, underfitting, or good generalization? (One-word answer)\n",
    "3. Suggest one change you would try next time to improve the model performance.\n",
    "\n",
    "✅ Write your answers in a Markdown cell below!\n",
    "\n",
    "---\n"
   ]
  },
  {
   "cell_type": "markdown",
   "id": "4acdcbda",
   "metadata": {},
   "source": [
    "### ✍️ Practice Task 9.1: Quick Critical Thinking"
   ]
  },
  {
   "cell_type": "markdown",
   "id": "1ddd5992",
   "metadata": {},
   "source": [
    "# 🛠️ Practice Exercise 9.1: Analyze Your Model\n",
    "\n",
    "✅ Your Task:\n",
    "\n",
    "- Look at your Training Loss and Testing Loss.\n",
    "- Answer the following questions:\n",
    "\n",
    "1. Is there a big gap between training and test loss? (Yes/No)\n",
    "2. Do you suspect overfitting, underfitting, or good generalization? (One-word answer)\n",
    "3. Suggest one change you would try next time to improve the model performance.\n",
    "\n",
    "✅ Write your answers in a Markdown cell below!\n",
    "\n",
    "---\n"
   ]
  },
  {
   "cell_type": "markdown",
   "id": "c62d0a18",
   "metadata": {},
   "source": [
    "### 🎯 Bonus MCQ: Test Yourself\n",
    "\n",
    "**Q1. If training loss is low but testing loss is very high, this suggests:**\n",
    "\n",
    "- [ ] Underfitting\n",
    "- [x] Overfitting\n",
    "- [ ] Good generalization\n",
    "\n",
    "**Q2. Increasing the number of hidden neurons usually:**\n",
    "\n",
    "- [ ] Reduces overfitting\n",
    "- [x] Increases model capacity\n",
    "- [ ] Decreases model capacity\n",
    "\n",
    "**Q3. Using a very high learning rate usually causes:**\n",
    "\n",
    "- [ ] Faster convergence always\n",
    "- [ ] Better generalization\n",
    "- [x] Unstable or diverging training\n",
    "\n",
    "✅ Answer these quickly to reinforce your understanding!\n",
    "\n",
    "---\n"
   ]
  },
  {
   "cell_type": "code",
   "execution_count": 19,
   "id": "5893bc7c",
   "metadata": {},
   "outputs": [
    {
     "name": "stdout",
     "output_type": "stream",
     "text": [
      "Requirement already satisfied: hiddenlayer in c:\\users\\noman\\.pyenv\\pyenv-win\\versions\\3.10.11\\lib\\site-packages (0.3)Note: you may need to restart the kernel to use updated packages.\n",
      "\n"
     ]
    },
    {
     "name": "stderr",
     "output_type": "stream",
     "text": [
      "\n",
      "[notice] A new release of pip is available: 24.2 -> 25.1.1\n",
      "[notice] To update, run: c:\\Users\\noman\\.pyenv\\pyenv-win\\versions\\3.10.11\\python.exe -m pip install --upgrade pip\n"
     ]
    }
   ],
   "source": [
    "pip install hiddenlayer"
   ]
  },
  {
   "cell_type": "code",
   "execution_count": 21,
   "id": "3f69029d",
   "metadata": {},
   "outputs": [
    {
     "ename": "AttributeError",
     "evalue": "module 'torch.onnx' has no attribute '_optimize_trace'",
     "output_type": "error",
     "traceback": [
      "\u001b[1;31m---------------------------------------------------------------------------\u001b[0m",
      "\u001b[1;31mAttributeError\u001b[0m                            Traceback (most recent call last)",
      "Cell \u001b[1;32mIn[21], line 25\u001b[0m\n\u001b[0;32m     22\u001b[0m dummy_input \u001b[38;5;241m=\u001b[39m torch\u001b[38;5;241m.\u001b[39mzeros(\u001b[38;5;241m1\u001b[39m, \u001b[38;5;241m8\u001b[39m)\n\u001b[0;32m     24\u001b[0m \u001b[38;5;66;03m# Build the graph\u001b[39;00m\n\u001b[1;32m---> 25\u001b[0m graph \u001b[38;5;241m=\u001b[39m \u001b[43mhl\u001b[49m\u001b[38;5;241;43m.\u001b[39;49m\u001b[43mbuild_graph\u001b[49m\u001b[43m(\u001b[49m\u001b[43mmodel\u001b[49m\u001b[43m,\u001b[49m\u001b[43m \u001b[49m\u001b[43mdummy_input\u001b[49m\u001b[43m)\u001b[49m\n\u001b[0;32m     26\u001b[0m graph_theme \u001b[38;5;241m=\u001b[39m graph\u001b[38;5;241m.\u001b[39mtheme_default\n\u001b[0;32m     27\u001b[0m graph_theme\u001b[38;5;241m.\u001b[39mfont_size \u001b[38;5;241m=\u001b[39m \u001b[38;5;241m10\u001b[39m\n",
      "File \u001b[1;32mc:\\Users\\noman\\.pyenv\\pyenv-win\\versions\\3.10.11\\lib\\site-packages\\hiddenlayer\\graph.py:143\u001b[0m, in \u001b[0;36mbuild_graph\u001b[1;34m(model, args, input_names, transforms, framework_transforms)\u001b[0m\n\u001b[0;32m    141\u001b[0m     \u001b[38;5;28;01mfrom\u001b[39;00m \u001b[38;5;21;01m.\u001b[39;00m\u001b[38;5;21;01mpytorch_builder\u001b[39;00m \u001b[38;5;28;01mimport\u001b[39;00m import_graph, FRAMEWORK_TRANSFORMS\n\u001b[0;32m    142\u001b[0m     \u001b[38;5;28;01massert\u001b[39;00m args \u001b[38;5;129;01mis\u001b[39;00m \u001b[38;5;129;01mnot\u001b[39;00m \u001b[38;5;28;01mNone\u001b[39;00m, \u001b[38;5;124m\"\u001b[39m\u001b[38;5;124mArgument args must be provided for Pytorch models.\u001b[39m\u001b[38;5;124m\"\u001b[39m\n\u001b[1;32m--> 143\u001b[0m     \u001b[43mimport_graph\u001b[49m\u001b[43m(\u001b[49m\u001b[43mg\u001b[49m\u001b[43m,\u001b[49m\u001b[43m \u001b[49m\u001b[43mmodel\u001b[49m\u001b[43m,\u001b[49m\u001b[43m \u001b[49m\u001b[43margs\u001b[49m\u001b[43m)\u001b[49m\n\u001b[0;32m    144\u001b[0m \u001b[38;5;28;01melif\u001b[39;00m framework \u001b[38;5;241m==\u001b[39m \u001b[38;5;124m\"\u001b[39m\u001b[38;5;124mtensorflow\u001b[39m\u001b[38;5;124m\"\u001b[39m:\n\u001b[0;32m    145\u001b[0m     \u001b[38;5;28;01mfrom\u001b[39;00m \u001b[38;5;21;01m.\u001b[39;00m\u001b[38;5;21;01mtf_builder\u001b[39;00m \u001b[38;5;28;01mimport\u001b[39;00m import_graph, FRAMEWORK_TRANSFORMS\n",
      "File \u001b[1;32mc:\\Users\\noman\\.pyenv\\pyenv-win\\versions\\3.10.11\\lib\\site-packages\\hiddenlayer\\pytorch_builder.py:71\u001b[0m, in \u001b[0;36mimport_graph\u001b[1;34m(hl_graph, model, args, input_names, verbose)\u001b[0m\n\u001b[0;32m     66\u001b[0m \u001b[38;5;28;01mdef\u001b[39;00m \u001b[38;5;21mimport_graph\u001b[39m(hl_graph, model, args, input_names\u001b[38;5;241m=\u001b[39m\u001b[38;5;28;01mNone\u001b[39;00m, verbose\u001b[38;5;241m=\u001b[39m\u001b[38;5;28;01mFalse\u001b[39;00m):\n\u001b[0;32m     67\u001b[0m     \u001b[38;5;66;03m# TODO: add input names to graph\u001b[39;00m\n\u001b[0;32m     68\u001b[0m \n\u001b[0;32m     69\u001b[0m     \u001b[38;5;66;03m# Run the Pytorch graph to get a trace and generate a graph from it\u001b[39;00m\n\u001b[0;32m     70\u001b[0m     trace, out \u001b[38;5;241m=\u001b[39m torch\u001b[38;5;241m.\u001b[39mjit\u001b[38;5;241m.\u001b[39m_get_trace_graph(model, args)\n\u001b[1;32m---> 71\u001b[0m     torch_graph \u001b[38;5;241m=\u001b[39m \u001b[43mtorch\u001b[49m\u001b[38;5;241;43m.\u001b[39;49m\u001b[43monnx\u001b[49m\u001b[38;5;241;43m.\u001b[39;49m\u001b[43m_optimize_trace\u001b[49m(trace, torch\u001b[38;5;241m.\u001b[39monnx\u001b[38;5;241m.\u001b[39mOperatorExportTypes\u001b[38;5;241m.\u001b[39mONNX)\n\u001b[0;32m     73\u001b[0m     \u001b[38;5;66;03m# Dump list of nodes (DEBUG only)\u001b[39;00m\n\u001b[0;32m     74\u001b[0m     \u001b[38;5;28;01mif\u001b[39;00m verbose:\n",
      "\u001b[1;31mAttributeError\u001b[0m: module 'torch.onnx' has no attribute '_optimize_trace'"
     ]
    }
   ],
   "source": [
    "import torch\n",
    "import torch.nn as nn\n",
    "import hiddenlayer as hl\n",
    "\n",
    "# Define a simple MLP model for demonstration\n",
    "class SimpleMLP(nn.Module):\n",
    "    def __init__(self, input_dim=8, hidden_dim=16, output_dim=1):\n",
    "        super(SimpleMLP, self).__init__()\n",
    "        self.net = nn.Sequential(\n",
    "            nn.Linear(input_dim, hidden_dim),\n",
    "            nn.ReLU(),\n",
    "            nn.Linear(hidden_dim, output_dim)\n",
    "        )\n",
    "\n",
    "    def forward(self, x):\n",
    "        return self.net(x)\n",
    "\n",
    "# Create model instance\n",
    "model = SimpleMLP()\n",
    "\n",
    "# Create dummy input tensor with correct shape (batch_size, input_dim)\n",
    "dummy_input = torch.zeros(1, 8)\n",
    "\n",
    "# Build the graph\n",
    "graph = hl.build_graph(model, dummy_input)\n",
    "graph_theme = graph.theme_default\n",
    "graph_theme.font_size = 10\n",
    "\n",
    "graph\n"
   ]
  },
  {
   "cell_type": "markdown",
   "id": "d06457e7",
   "metadata": {},
   "source": []
  },
  {
   "cell_type": "code",
   "execution_count": 22,
   "id": "4d44c59f",
   "metadata": {},
   "outputs": [
    {
     "name": "stdout",
     "output_type": "stream",
     "text": [
      "Requirement already satisfied: torchviz in c:\\users\\noman\\.pyenv\\pyenv-win\\versions\\3.10.11\\lib\\site-packages (0.0.3)\n",
      "Requirement already satisfied: torch in c:\\users\\noman\\.pyenv\\pyenv-win\\versions\\3.10.11\\lib\\site-packages (from torchviz) (2.5.1)\n",
      "Requirement already satisfied: graphviz in c:\\users\\noman\\.pyenv\\pyenv-win\\versions\\3.10.11\\lib\\site-packages (from torchviz) (0.20.3)\n",
      "Requirement already satisfied: filelock in c:\\users\\noman\\.pyenv\\pyenv-win\\versions\\3.10.11\\lib\\site-packages (from torch->torchviz) (3.15.4)\n",
      "Requirement already satisfied: typing-extensions>=4.8.0 in c:\\users\\noman\\.pyenv\\pyenv-win\\versions\\3.10.11\\lib\\site-packages (from torch->torchviz) (4.10.0)\n",
      "Requirement already satisfied: networkx in c:\\users\\noman\\.pyenv\\pyenv-win\\versions\\3.10.11\\lib\\site-packages (from torch->torchviz) (3.3)\n",
      "Requirement already satisfied: jinja2 in c:\\users\\noman\\.pyenv\\pyenv-win\\versions\\3.10.11\\lib\\site-packages (from torch->torchviz) (3.1.3)\n",
      "Requirement already satisfied: fsspec in c:\\users\\noman\\.pyenv\\pyenv-win\\versions\\3.10.11\\lib\\site-packages (from torch->torchviz) (2024.5.0)\n",
      "Requirement already satisfied: sympy==1.13.1 in c:\\users\\noman\\.pyenv\\pyenv-win\\versions\\3.10.11\\lib\\site-packages (from torch->torchviz) (1.13.1)\n",
      "Requirement already satisfied: mpmath<1.4,>=1.1.0 in c:\\users\\noman\\.pyenv\\pyenv-win\\versions\\3.10.11\\lib\\site-packages (from sympy==1.13.1->torch->torchviz) (1.3.0)\n",
      "Requirement already satisfied: MarkupSafe>=2.0 in c:\\users\\noman\\.pyenv\\pyenv-win\\versions\\3.10.11\\lib\\site-packages (from jinja2->torch->torchviz) (2.1.5)\n",
      "Note: you may need to restart the kernel to use updated packages.\n"
     ]
    },
    {
     "name": "stderr",
     "output_type": "stream",
     "text": [
      "\n",
      "[notice] A new release of pip is available: 24.2 -> 25.1.1\n",
      "[notice] To update, run: c:\\Users\\noman\\.pyenv\\pyenv-win\\versions\\3.10.11\\python.exe -m pip install --upgrade pip\n"
     ]
    }
   ],
   "source": [
    "pip install torchviz"
   ]
  },
  {
   "cell_type": "code",
   "execution_count": 23,
   "id": "46570ed9",
   "metadata": {},
   "outputs": [
    {
     "data": {
      "text/plain": [
       "'mlp_graph.png'"
      ]
     },
     "execution_count": 23,
     "metadata": {},
     "output_type": "execute_result"
    }
   ],
   "source": [
    "from torchviz import make_dot\n",
    "import torch.nn as nn\n",
    "import torch\n",
    "\n",
    "# Define simple model\n",
    "class MLP(nn.Module):\n",
    "    def __init__(self):\n",
    "        super().__init__()\n",
    "        self.net = nn.Sequential(\n",
    "            nn.Linear(8, 16),\n",
    "            nn.ReLU(),\n",
    "            nn.Linear(16, 1)\n",
    "        )\n",
    "\n",
    "    def forward(self, x):\n",
    "        return self.net(x)\n",
    "\n",
    "# Instantiate model and dummy input\n",
    "model = MLP()\n",
    "dummy_input = torch.randn(1, 8)\n",
    "\n",
    "# Forward pass to get output\n",
    "output = model(dummy_input)\n",
    "\n",
    "# Generate and render the computational graph\n",
    "make_dot(output, params=dict(model.named_parameters())).render(\"mlp_graph\", format=\"png\")\n"
   ]
  },
  {
   "cell_type": "code",
   "execution_count": null,
   "id": "ef68e319",
   "metadata": {},
   "outputs": [],
   "source": []
  }
 ],
 "metadata": {
  "kernelspec": {
   "display_name": "3.10.11",
   "language": "python",
   "name": "python3"
  },
  "language_info": {
   "codemirror_mode": {
    "name": "ipython",
    "version": 3
   },
   "file_extension": ".py",
   "mimetype": "text/x-python",
   "name": "python",
   "nbconvert_exporter": "python",
   "pygments_lexer": "ipython3",
   "version": "3.10.11"
  }
 },
 "nbformat": 4,
 "nbformat_minor": 5
}
