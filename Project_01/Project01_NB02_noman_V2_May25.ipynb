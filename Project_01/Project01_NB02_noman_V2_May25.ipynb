{
 "cells": [
  {
   "cell_type": "markdown",
   "id": "f62b340a",
   "metadata": {},
   "source": [
    "# Project 2 - Linear Regression and Gradient Descent"
   ]
  },
  {
   "cell_type": "markdown",
   "id": "8c45d88a",
   "metadata": {},
   "source": [
    "<b> 📖 1. What is Linear Regression? </b>\n",
    "\n",
    "✅ Objective:\n",
    "\n",
    "- Connect the idea that a **neural network without hidden layers and without activations** is simply a **linear model**.\n",
    "\n",
    "- Provide an **intuitive explanation** of linear regression with **real-world examples**.\n"
   ]
  },
  {
   "cell_type": "markdown",
   "id": "75bd579d",
   "metadata": {},
   "source": [
    "<b> What is Linear Regression? </b>\n",
    "\n",
    "🔵 **Linear Regression** is one of the simplest forms of supervised learning.\n",
    "\n",
    "In its basic form, it models the relationship between **input(s)** and **output** by assuming a **straight-line relationship**:\n",
    "\n",
    "🔵 **Connection to Neural Networks:**\n",
    "\n",
    "- A **neural network with no hidden layers and no activation functions** behaves exactly like a **linear regression model**.\n",
    "- It simply computes a **weighted sum** of inputs plus a bias.\n",
    "\n",
    "> **Key Insight:**  \n",
    "> Linear models are the building blocks of deep learning. If we stack multiple layers and apply activation functions, we move from simple lines to very complex, nonlinear functions!\n",
    "\n",
    "\n",
    "\n",
    "<b> 🏗 Real-world Examples: </b>\n",
    "- Predicting **house prices** based on size.\n",
    "- Estimating **salary** based on years of experience.\n",
    "- Predicting **concrete strength** based on material composition (our dataset!).\n",
    "\n",
    "---\n"
   ]
  },
  {
   "cell_type": "markdown",
   "id": "fb70832d",
   "metadata": {},
   "source": [
    "=== Revised\n",
    "## 1. Introduction: What is Linear Regression?\n",
    "\n",
    "### Objective\n",
    "\n",
    "- Understand that a **neural network without hidden layers or activation functions** is equivalent to a **linear regression model**.\n",
    "- Develop an **intuitive understanding** of linear regression through real-world examples.\n",
    "\n",
    "### 1.1 What is Linear Regression?\n",
    "\n",
    "Linear Regression is one of the most fundamental approaches in supervised learning. It models the relationship between **input variables** and an **output variable** by assuming a **linear (straight-line)** relationship.\n",
    "\n",
    "Mathematically, this is represented as:\n",
    "\n",
    "$$\n",
    "\\hat{y} = XW + b\n",
    "$$\n",
    "\n",
    "Where:\n",
    "- \\( X \\) is the input tensor (data),\n",
    "- \\( W \\) are the weights,\n",
    "- \\( b \\) is the bias term,\n",
    "- \\( \\hat{y} \\) is the predicted output.\n",
    "\n",
    "### 1.2 Connection to Neural Networks\n",
    "\n",
    "A **neural network with no hidden layers and no activation functions** behaves exactly like a **linear regression model**. It simply computes a weighted sum of the input features and adds a bias.\n",
    "\n",
    "> **Key Insight:**  \n",
    "> Linear models are the foundation of deep learning. When we stack layers and introduce activation functions, we evolve from simple lines to highly expressive, non-linear models.\n",
    "\n",
    "### 1.3 Real-World Examples of Linear Relationships\n",
    "\n",
    "Some examples where linear regression is applicable include:\n",
    "\n",
    "- Predicting **house prices** based on size.\n",
    "- Estimating **salary** based on years of experience.\n",
    "- Predicting **concrete strength** based on material composition — which is the focus of our current dataset.\n"
   ]
  },
  {
   "cell_type": "markdown",
   "id": "6829a839",
   "metadata": {},
   "source": [
    "<b> 2. Mathematical Formulation of Linear Model </b>\n",
    "\n",
    "The prediction formula for a linear model is:\n",
    "\n",
    "$$\n",
    "\\hat{y} = XW + b\n",
    "$$\n",
    "\n",
    "Where:\n",
    "\n",
    "| Term       | Meaning                   | Shape                 |\n",
    "|:-----------|:--------------------------|:----------------------|\n",
    "| $X$        | Input features matrix     | $(n, d)$              |\n",
    "| $W$        | Weights vector            | $(d, 1)$              |\n",
    "| $b$        | Bias (scalar or $(n, 1)$) | Scalar or broadcasted |\n",
    "| $\\hat{y}$  | Predicted outputs         | $(n, 1)$              |\n",
    "\n",
    "\n",
    "✅ In words:  \n",
    "- **Multiply** the input features by the weight vector.  \n",
    "- **Add** the bias.  \n",
    "- You get the **predicted output**!\n",
    "\n",
    "<b> 🧠 Example:</b>\n",
    "\n",
    "Suppose we have:\n",
    "- 3 data points (rows)\n",
    "- 2 features each (columns)\n",
    "\n",
    "$$\n",
    "X = \\begin{bmatrix}\n",
    "1 & 2 \\\\\n",
    "3 & 4 \\\\\n",
    "5 & 6\n",
    "\\end{bmatrix}\n",
    "\\quad\n",
    "W = \\begin{bmatrix}\n",
    "0.5 \\\\\n",
    "1.5\n",
    "\\end{bmatrix}\n",
    "\\quad\n",
    "b = 2\n",
    "$$\n",
    "\n",
    "Then:\n",
    "\n",
    "$$\n",
    "\\hat{y} = XW + b =\n",
    "\\begin{bmatrix}\n",
    "1 \\times 0.5 + 2 \\times 1.5 + 2 \\\\\n",
    "3 \\times 0.5 + 4 \\times 1.5 + 2 \\\\\n",
    "5 \\times 0.5 + 6 \\times 1.5 + 2\n",
    "\\end{bmatrix}\n",
    "=\n",
    "\\begin{bmatrix}\n",
    "6 \\\\\n",
    "11 \\\\\n",
    "16\n",
    "\\end{bmatrix}\n",
    "$$\n"
   ]
  },
  {
   "cell_type": "markdown",
   "id": "755fbf95",
   "metadata": {},
   "source": [
    "📖 Section 3: Predict Function (Tiny Dataset)\n",
    "\n",
    "### ✅ Objective:\n",
    "\n",
    "- Move from **theory to a small working example**  \n",
    "- Manually define a `predict(X)` function  \n",
    "- Show the **very first forward computation** step\n"
   ]
  },
  {
   "cell_type": "markdown",
   "id": "0df32865",
   "metadata": {},
   "source": [
    "#### 🧠 Markdown Cell 3.1: Predict Function Idea"
   ]
  },
  {
   "cell_type": "markdown",
   "id": "fc0303f4",
   "metadata": {},
   "source": [
    "#### 3.1 Predict Function\n",
    "\n",
    "Now, let's move from formulas to actual code!\n",
    "\n",
    "We will define a **predict** function that calculates:\n",
    "\n",
    "$$\n",
    "\\hat{y} = XW + b\n",
    "$$\n",
    "\n",
    "where $ X $ is our input tensor, $ W $ are the weights, and $ b $ is the bias.\n",
    "\n",
    "---\n",
    "\n",
    "✅ Remember:  \n",
    "- $ W $ and $ b $ are **parameters** we want to learn later during training.\n",
    "- For now, we'll just manually set them to random values.\n",
    "\n",
    "---\n"
   ]
  },
  {
   "cell_type": "markdown",
   "id": "f358d039",
   "metadata": {},
   "source": [
    "#### 🖥️ Code Cell 3.1: Predict Function on Tiny Dataset"
   ]
  },
  {
   "cell_type": "code",
   "execution_count": null,
   "id": "1cc06950",
   "metadata": {},
   "outputs": [
    {
     "name": "stdout",
     "output_type": "stream",
     "text": [
      "Predictions:\n",
      "tensor([[0.5000],\n",
      "        [1.0000],\n",
      "        [1.5000],\n",
      "        [2.0000]], grad_fn=<AddBackward0>)\n"
     ]
    }
   ],
   "source": [
    "import torch\n",
    "\n",
    "# Tiny toy dataset\n",
    "X = torch.tensor([[1.0], [2.0], [3.0], [4.0]])\n",
    "Y = torch.tensor([[2.0], [4.0], [6.0], [8.0]])\n",
    "\n",
    "# Randomly initialized weights and bias\n",
    "W = torch.tensor([[0.5]], requires_grad=True)\n",
    "b = torch.tensor([0.0], requires_grad=True)\n",
    "\n",
    "# Predict function\n",
    "def predict(X):\n",
    "    return torch.matmul(X, W) + b\n",
    "\n",
    "# Test prediction\n",
    "y_pred = predict(X)\n",
    "print(\"Predictions:\")\n",
    "print(y_pred)"
   ]
  },
  {
   "cell_type": "markdown",
   "id": "6e59800b",
   "metadata": {},
   "source": [
    "#### ✍️ Practice Cell 3.1 (Optional small exercise)"
   ]
  },
  {
   "cell_type": "markdown",
   "id": "e44abe8a",
   "metadata": {},
   "source": [
    "#### 🛠️ Practice Exercise 3.1\n",
    "\n",
    "✅ Your Task:\n",
    "\n",
    "- Modify the weight **W** and bias **b** manually.\n",
    "- Predict again.\n",
    "- Observe how the output changes.\n",
    "\n",
    "🔔 *Hint:* Try changing W to 2.0 and b to 1.0 and see if predictions improve!"
   ]
  },
  {
   "cell_type": "code",
   "execution_count": null,
   "id": "f6cc5695",
   "metadata": {},
   "outputs": [],
   "source": []
  },
  {
   "cell_type": "markdown",
   "id": "160b6059",
   "metadata": {},
   "source": [
    "## 📖 Section 4: MSE Loss (Mean Squared Error)\n",
    "\n",
    "### ✅ Objective:\n",
    "\n",
    "- Introduce **loss functions** in regression problems  \n",
    "- Focus mainly on **Mean Squared Error (MSE)**  \n",
    "- Briefly mention alternatives like **Mean Absolute Error (MAE)** and **Huber Loss**  \n",
    "- **Manually implement** a simple MSE function in code\n"
   ]
  },
  {
   "cell_type": "markdown",
   "id": "a47c73a1",
   "metadata": {},
   "source": [
    "#### 🧠 Markdown Cell 4.1: Loss Functions for Regression"
   ]
  },
  {
   "cell_type": "markdown",
   "id": "560d15db",
   "metadata": {},
   "source": [
    "### 4.1 Loss Functions for Regression\n",
    "\n",
    "In supervised learning, we need a way to measure **how good or bad** our model's predictions are compared to the actual targets.  \n",
    "This measurement is done using a **loss function**.\n",
    "\n",
    "---\n",
    "\n",
    "### 🔵 Mean Squared Error (MSE)\n",
    "\n",
    "The **Mean Squared Error (MSE)** is the most common loss function for **regression** tasks.\n",
    "\n",
    "Mathematically, it is defined as:\n",
    "\n",
    "$$\n",
    "\\text{MSE} = \\frac{1}{n} \\sum_{i=1}^{n} (y_i - \\hat{y}_i)^2\n",
    "$$\n",
    "\n",
    "Where:\n",
    "- $y_i$ = true target value  \n",
    "- $\\hat{y}_i$ = model prediction  \n",
    "- $n$ = number of examples\n",
    "\n",
    "✅ **In simple terms:**\n",
    "- Take the **difference** between prediction and true value  \n",
    "- **Square** it (to make all differences positive)  \n",
    "- **Average** the result across all data points\n",
    "\n",
    "---\n",
    "\n",
    "### 🔵 Other Loss Functions (just for awareness)\n",
    "\n",
    "- **Mean Absolute Error (MAE):**  \n",
    "  Takes the absolute difference — less sensitive to large errors\n",
    "\n",
    "- **Huber Loss:**  \n",
    "  A combination of MSE and MAE — more robust to outliers\n"
   ]
  },
  {
   "cell_type": "markdown",
   "id": "ad877ea2",
   "metadata": {},
   "source": [
    "#### 🖥️ Code Cell 4.1: Implement MSE Loss Function"
   ]
  },
  {
   "cell_type": "code",
   "execution_count": null,
   "id": "1746662a",
   "metadata": {},
   "outputs": [
    {
     "name": "stdout",
     "output_type": "stream",
     "text": [
      "MSE Loss: 0.25\n"
     ]
    }
   ],
   "source": [
    "# Mean Squared Error (MSE) function\n",
    "def mse_loss(predictions, targets):\n",
    "    return torch.mean((predictions - targets)**2)\n",
    "\n",
    "# Test with tiny dataset\n",
    "# Ground truth\n",
    "Y_true = torch.tensor([[2.0], [4.0], [6.0], [8.0]])\n",
    "\n",
    "# Random predictions\n",
    "Y_pred = torch.tensor([[2.5], [3.5], [5.5], [8.5]])\n",
    "\n",
    "# Compute loss\n",
    "loss = mse_loss(Y_pred, Y_true)\n",
    "print(\"MSE Loss:\", loss.item())"
   ]
  },
  {
   "cell_type": "markdown",
   "id": "e884b220",
   "metadata": {},
   "source": [
    "#### ✍️ Practice Cell 4.1 (Small Exercise)"
   ]
  },
  {
   "cell_type": "markdown",
   "id": "63ed1734",
   "metadata": {},
   "source": [
    "#### 🛠️ Practice Exercise 4.1\n",
    "\n",
    "✅ Your Task:\n",
    "\n",
    "- Modify the `Y_pred` values manually to make them **closer** to `Y_true`.\n",
    "- Recompute the MSE loss.\n",
    "- **Observe**: Does the loss decrease?\n",
    "\n",
    "🔔 *Hint:* \n",
    "- Try setting `Y_pred = [[2.1], [4.0], [6.1], [7.9]]` \n",
    "- Calculate and compare!\n",
    "\n",
    "---\n"
   ]
  },
  {
   "cell_type": "code",
   "execution_count": null,
   "id": "cd290b3e",
   "metadata": {},
   "outputs": [],
   "source": []
  },
  {
   "cell_type": "markdown",
   "id": "6c98942e",
   "metadata": {},
   "source": [
    "## 📖 Section 5: Training/Test Split\n",
    "\n",
    "### ✅ Objective:\n",
    "\n",
    "- Introduce **why we need train/test splits**  \n",
    "- Explain the concept of **generalization vs. overfitting**  \n",
    "- Actually split the **Concrete dataset** into **80% training** and **20% testing**\n"
   ]
  },
  {
   "cell_type": "markdown",
   "id": "38c27519",
   "metadata": {},
   "source": [
    "#### 🧠 Markdown Cell 5.1: Why Split into Training and Test Sets?"
   ]
  },
  {
   "cell_type": "markdown",
   "id": "4c44ef94",
   "metadata": {},
   "source": [
    "### 5.1 Why Split into Training and Test Sets?\n",
    "\n",
    "✅ When we train a machine learning model, we want it to perform **well not only on the data it saw during training, but also on new, unseen data**.\n",
    "\n",
    "This is called **generalization**.\n",
    "\n",
    "---\n",
    "\n",
    "🔵 **Training Set:**\n",
    "- Used to learn the model's weights (parameters).\n",
    "- Model sees this data during optimization.\n",
    "\n",
    "🔵 **Test Set:**\n",
    "- Used to evaluate how well the model generalizes.\n",
    "- Model **should NOT** see this data during training!\n",
    "\n",
    "---\n",
    "\n",
    "✅ Without a test set, we might create models that **memorize** (overfit) the training data without truly learning patterns that generalize.\n",
    "\n",
    "---\n",
    "**Example:**  \n",
    "Imagine learning a set of 10 quiz questions by heart.  \n",
    "If the final exam gives you **the same questions**, you'll ace it (training success).  \n",
    "But if you get **new questions**, your true understanding is tested (generalization)!\n",
    "\n",
    "---"
   ]
  },
  {
   "cell_type": "markdown",
   "id": "0044c7ca",
   "metadata": {},
   "source": [
    "#### 🖥️ Code Cell 5.1: Split Concrete Dataset"
   ]
  },
  {
   "cell_type": "code",
   "execution_count": 35,
   "id": "7599ea8c",
   "metadata": {},
   "outputs": [
    {
     "name": "stdout",
     "output_type": "stream",
     "text": [
      "Training set size: 824\n",
      "Test set size: 206\n"
     ]
    }
   ],
   "source": [
    "# Assume 'inputs_tensor' and 'targets_tensor' are already created (from Notebook 1)\n",
    "\n",
    "# Set random seed for reproducibility\n",
    "torch.manual_seed(42)\n",
    "\n",
    "# Total number of samples\n",
    "n_samples = inputs_tensor.shape[0]\n",
    "\n",
    "# Shuffle indices\n",
    "indices = torch.randperm(n_samples)\n",
    "\n",
    "# 80-20 split\n",
    "split_idx = int(n_samples * 0.8)\n",
    "\n",
    "train_indices = indices[:split_idx]\n",
    "test_indices = indices[split_idx:]\n",
    "\n",
    "# Create training and testing sets\n",
    "X_train = inputs_tensor[train_indices]\n",
    "y_train = targets_tensor[train_indices]\n",
    "\n",
    "X_test = inputs_tensor[test_indices]\n",
    "y_test = targets_tensor[test_indices]\n",
    "\n",
    "print(\"Training set size:\", X_train.shape[0])\n",
    "print(\"Test set size:\", X_test.shape[0])\n"
   ]
  },
  {
   "cell_type": "markdown",
   "id": "8f2c6b25",
   "metadata": {},
   "source": [
    "#### ✍️ Practice Cell 5.1 (Small Exercise)"
   ]
  },
  {
   "cell_type": "markdown",
   "id": "f3ef0aab",
   "metadata": {},
   "source": [
    "#### 🛠️ Practice Exercise 5.1\n",
    "\n",
    "✅ Your Task:\n",
    "\n",
    "- Print:\n",
    "  - First 5 examples of `X_train` and `y_train`.\n",
    "  - First 5 examples of `X_test` and `y_test`.\n",
    "- Confirm that no data leakage happened (training and testing sets are separate).\n",
    "\n",
    "🔔 *Hint:* \n",
    "- Use `print(X_train[:5])`, `print(y_train[:5])`, etc.\n",
    "\n",
    "---\n"
   ]
  },
  {
   "cell_type": "code",
   "execution_count": null,
   "id": "e6450bce",
   "metadata": {},
   "outputs": [],
   "source": []
  },
  {
   "cell_type": "markdown",
   "id": "c10430bb",
   "metadata": {},
   "source": [
    "## 📚 Section 6: Manual Parameter Initialization"
   ]
  },
  {
   "cell_type": "markdown",
   "id": "d7423d23",
   "metadata": {},
   "source": [
    "### 🎯 Objective\n",
    "\n",
    "- Introduce the concept of **parameters**: weights ($W$) and bias ($b$)  \n",
    "- Manually **initialize parameters** as PyTorch tensors  \n",
    "- Set `requires_grad=True` to enable **gradient tracking**  \n",
    "- 🛠️ **Practice:** Follow the instructions below and write your own code"
   ]
  },
  {
   "cell_type": "markdown",
   "id": "7b458a13",
   "metadata": {},
   "source": [
    "#### 🧠 Markdown Cell 6.1: Why Initialize Parameters?"
   ]
  },
  {
   "cell_type": "markdown",
   "id": "a634c620",
   "metadata": {},
   "source": [
    "### 6.1 Manual Initialization of Model Parameters\n",
    "\n",
    "✅ To perform linear regression, our model needs **two sets of parameters**:\n",
    "- **Weights (W)** — these determine how important each input feature is.\n",
    "- **Bias (b)** — this shifts the output up or down.\n",
    "\n",
    "---\n",
    "\n",
    "🔵 In PyTorch:\n",
    "- We initialize weights and bias as **torch tensors**.\n",
    "- We must set **`requires_grad=True`** so that PyTorch can compute **gradients** automatically later during training.\n",
    "\n",
    "---\n",
    "\n",
    "### 📏 Parameter Shapes:\n",
    "\n",
    "Suppose we are using **only 1 feature** from the Concrete dataset (for simplicity):\n",
    "\n",
    "| Parameter | Shape | Example |\n",
    "|:---|:---|:---|\n",
    "| Weight (W) | (1, 1) | One weight per input feature |\n",
    "| Bias (b) | (1,) | Single bias |\n",
    "\n",
    "✅ Later, when we move to multiple features, the shape of `W` will be `(num_features, 1)`.\n",
    "\n",
    "---\n",
    "\n",
    "> **Key point:**  \n",
    "> - Random initial weights are fine.\n",
    "> - Training will adjust them based on data!\n",
    "\n",
    "---\n"
   ]
  },
  {
   "cell_type": "markdown",
   "id": "639ff220",
   "metadata": {},
   "source": [
    "#### ✍️ Practice Task 6.1 (instead of full code)"
   ]
  },
  {
   "cell_type": "markdown",
   "id": "b06855e7",
   "metadata": {},
   "source": [
    "#### 🛠️ Practice Exercise 6.1\n",
    "\n",
    "✅ Your Task:\n",
    "\n",
    "- Manually initialize the model parameters:\n",
    "  - Weight tensor `W`\n",
    "  - Bias tensor `b`\n",
    "- Both should have:\n",
    "  - Random initial values (small numbers)\n",
    "  - `requires_grad=True` so PyTorch tracks gradients\n",
    "\n",
    "🔔 *Hint:* \n",
    "- Use `torch.randn()` for random numbers.\n",
    "- Example: `W = torch.randn((1, 1), requires_grad=True)`\n",
    "\n",
    "🔥 Quick Tip:\n",
    "\n",
    "✅ You can think of `W` and `b` as **variables** whose values we want to \"tune\" during training.\n",
    "\n",
    "✅ PyTorch will automatically compute **how much to change W and b** to make predictions better during each training step!\n",
    "\n",
    "---"
   ]
  },
  {
   "cell_type": "code",
   "execution_count": null,
   "id": "03fb425b",
   "metadata": {},
   "outputs": [],
   "source": []
  },
  {
   "cell_type": "code",
   "execution_count": 36,
   "id": "c3b99bbd",
   "metadata": {},
   "outputs": [
    {
     "name": "stdout",
     "output_type": "stream",
     "text": [
      "Weight: tensor([[-0.6641]], requires_grad=True)\n",
      "Bias: tensor([-0.3682], requires_grad=True)\n"
     ]
    }
   ],
   "source": [
    "# 🖥️ Expected Solution (only for Instructor — not shown to students)\n",
    "\n",
    "import torch\n",
    "\n",
    "# Random weight and bias with gradient tracking\n",
    "W = torch.randn((1, 1), requires_grad=True)\n",
    "b = torch.randn((1,), requires_grad=True)\n",
    "\n",
    "print(\"Weight:\", W)\n",
    "print(\"Bias:\", b)\n"
   ]
  },
  {
   "cell_type": "markdown",
   "id": "394780ae",
   "metadata": {},
   "source": [
    "## 📚 Section 7: Gradient Descent Concept"
   ]
  },
  {
   "cell_type": "markdown",
   "id": "83d291f9",
   "metadata": {},
   "source": [
    "### 🎯 Objective\n",
    "\n",
    "- Explain what **gradient descent** is in **intuitive terms**\n",
    "\n",
    "---\n",
    "\n",
    "### 🧠 Key Concepts to Cover:\n",
    "\n",
    "- **Loss Minimization**  \n",
    "  Our goal is to reduce the loss — make predictions as close as possible to the true values.\n",
    "\n",
    "- **Gradients**  \n",
    "  Gradients tell us **which direction** to move the parameters (weights and bias) and **how much**.  \n",
    "  - The **sign** tells the direction.  \n",
    "  - The **magnitude** tells how steep the slope is.\n",
    "\n",
    "- **Learning Rate**  \n",
    "  The learning rate is the **step size** we use when updating parameters using the gradients.  \n",
    "  - Too small: training is slow  \n",
    "  - Too large: may overshoot or diverge\n",
    "\n",
    "---\n",
    "\n",
    "📌 *Gradient descent is like finding the lowest point in a valley by taking small steps downhill, guided by the slope.*\n"
   ]
  },
  {
   "cell_type": "markdown",
   "id": "cea7f432",
   "metadata": {},
   "source": [
    "#### 🧠 Markdown Cell 7.1: What is Gradient Descent?"
   ]
  },
  {
   "cell_type": "markdown",
   "id": "c4f3ba08",
   "metadata": {},
   "source": [
    "### 7.1 Gradient Descent Concept\n",
    "\n",
    "✅ Once we have a **model** (like our linear model) and a **loss function** (like MSE),  \n",
    "we need a way to **optimize** the model parameters ($W$ and $b$) to **minimize the loss**.\n",
    "\n",
    "This is where **gradient descent** comes in!\n",
    "\n",
    "---\n",
    "\n",
    "### 🔵 What is Gradient Descent?\n",
    "\n",
    "- It is an **optimization algorithm**\n",
    "- It updates the model parameters in the **direction that reduces the loss the fastest**\n",
    "- It uses the **gradient (slope)** of the loss function to decide how to change $W$ and $b$\n",
    "\n",
    "---\n",
    "\n",
    "### 📈 How Gradient Descent Works\n",
    "\n",
    "For each parameter (e.g., a weight $w$):\n",
    "\n",
    "$$\n",
    "w \\leftarrow w - \\alpha \\times \\frac{\\partial L}{\\partial w}\n",
    "$$\n",
    "\n",
    "Where:\n",
    "- $\\alpha$ = Learning rate (a small positive number)  \n",
    "- $\\frac{\\partial L}{\\partial w}$ = Derivative (gradient) of the loss with respect to the weight\n",
    "\n",
    "✅ This means:\n",
    "- If the loss increases when you increase $w$, you should **decrease** $w$\n",
    "- If the loss decreases when you increase $w$, you should **increase** $w$\n",
    "\n",
    "---\n",
    "\n",
    "### 🔵 Learning Rate\n",
    "\n",
    "- Controls **how big** each update step is  \n",
    "- If too large ➔ may **overshoot** and miss the minimum  \n",
    "- If too small ➔ may result in **very slow** convergence\n",
    "\n",
    "---\n",
    "\n",
    "### 🧠 Visual Intuition\n",
    "\n",
    "Imagine you are **walking downhill**:\n",
    "- The gradient tells you the **steepest direction** to walk\n",
    "- The learning rate controls **how big your steps are**\n",
    "\n",
    "✅ Our goal is to **walk downhill** until we find the valley — the **minimum loss**!\n"
   ]
  },
  {
   "cell_type": "markdown",
   "id": "5a2818fd",
   "metadata": {},
   "source": [
    "## 📚 Section 8: Training Loop (Manual Gradient Descent)"
   ]
  },
  {
   "cell_type": "markdown",
   "id": "ae2d65cb",
   "metadata": {},
   "source": [
    "### 🎯 Objective: Manual Training Loop\n",
    "\n",
    "Now it's time to put everything together and **manually implement a training loop**.\n",
    "\n",
    "---\n",
    "\n",
    "### 🛠️ Your Task:\n",
    "\n",
    "- Use your **initialized parameters**: `W` and `b`  \n",
    "- Compute predictions using your `predict(X)` function  \n",
    "- Calculate the **loss** using Mean Squared Error (MSE)  \n",
    "- Perform **backpropagation** with `.backward()`  \n",
    "- Manually **update the parameters** using gradient descent:\n",
    "  \n",
    "  $$ \n",
    "  W \\leftarrow W - \\alpha \\cdot W.\\text{grad} \n",
    "  \\quad \\text{and} \\quad\n",
    "  b \\leftarrow b - \\alpha \\cdot b.\\text{grad}\n",
    "  $$\n",
    "\n",
    "- Don’t forget to **zero the gradients** after each update using:\n",
    "  ```python\n",
    "  W.grad.zero_()\n",
    "  b.grad.zero_()\n"
   ]
  },
  {
   "cell_type": "markdown",
   "id": "208b9dcb",
   "metadata": {},
   "source": [
    "#### 🧠 Markdown Cell 8.1: The Structure of a Training Loop"
   ]
  },
  {
   "cell_type": "markdown",
   "id": "3c82cd96",
   "metadata": {},
   "source": [
    "# 8.1 Building the Training Loop\n",
    "\n",
    "✅ In machine learning, a **training loop** is the repetitive process of:\n",
    "1. **Making predictions** using the current parameters.\n",
    "2. **Computing the loss** (difference between predictions and true targets).\n",
    "3. **Calculating gradients** (how loss changes w.r.t W and b).\n",
    "4. **Updating the parameters** using gradient descent.\n",
    "5. **Repeating** the process for many epochs (iterations).\n",
    "\n",
    "---\n",
    "\n",
    "🔵 **Typical Training Loop Steps:**\n",
    "\n",
    "For each epoch:\n",
    "- `y_pred = predict(X_train)`\n",
    "- `loss = mse_loss(y_pred, y_train)`\n",
    "- `loss.backward()`  ➔ compute gradients\n",
    "- Update `W` and `b`:\n",
    "  - `W = W - learning_rate * W.grad`\n",
    "  - `b = b - learning_rate * b.grad`\n",
    "- `zero out gradients` after update (important!)\n",
    "\n",
    "---\n",
    "\n",
    "✅ In PyTorch, we update parameters inside a `torch.no_grad()` block to avoid tracking the updates in the computation graph.\n",
    "\n",
    "---\n"
   ]
  },
  {
   "cell_type": "markdown",
   "id": "0122f3a3",
   "metadata": {},
   "source": [
    "#### ✍️ Practice Task 8.1 (Training Loop Practice) "
   ]
  },
  {
   "cell_type": "markdown",
   "id": "1073683a",
   "metadata": {},
   "source": [
    "#### 🛠️ Practice Exercise 8.1\n",
    "\n",
    "✅ Your Task:\n",
    "\n",
    "Write a training loop to **train your linear regression model** on the Concrete dataset.\n",
    "\n",
    "Follow these steps:\n",
    "\n",
    "---\n",
    "\n",
    "1. Choose a **learning rate** (e.g., `0.01`).\n",
    "\n",
    "2. For a number of **epochs** (e.g., 100):\n",
    "\n",
    "    a. Make predictions using your `predict(X_train)` function.  \n",
    "    b. Compute the MSE loss using your `mse_loss()` function.  \n",
    "    c. Call `.backward()` on the loss to compute gradients.  \n",
    "    d. Update the weights `W` and bias `b`:\n",
    "       - Use `torch.no_grad()` block.\n",
    "       - Apply the gradient descent rule:\n",
    "         ```\n",
    "         W -= learning_rate * W.grad\n",
    "         b -= learning_rate * b.grad\n",
    "         ```\n",
    "    e. After updating, **zero out the gradients** using:\n",
    "       ```\n",
    "       W.grad.zero_()\n",
    "       b.grad.zero_()\n",
    "       ```\n",
    "\n",
    "---\n",
    "\n",
    "🔔 *Hints:*\n",
    "- Use a `for epoch in range(epochs):` loop.\n",
    "- You can print the loss every 10 epochs to monitor progress.\n",
    "\n",
    "✅ At the end, your W and b should have changed to better values!\n",
    "\n",
    "---\n"
   ]
  },
  {
   "cell_type": "code",
   "execution_count": null,
   "id": "2b8db5d0",
   "metadata": {},
   "outputs": [],
   "source": []
  },
  {
   "cell_type": "markdown",
   "id": "501567d4",
   "metadata": {},
   "source": [
    "#### 🖥️ Expected Solution (not shown to students)"
   ]
  },
  {
   "cell_type": "code",
   "execution_count": null,
   "id": "ae259e47",
   "metadata": {},
   "outputs": [],
   "source": [
    "# Assume W and b are already initialized, inputs split into X_train, y_train\n",
    "\n",
    "learning_rate = 0.01\n",
    "epochs = 100\n",
    "\n",
    "for epoch in range(epochs):\n",
    "    # Forward pass\n",
    "    y_pred = predict(X_train)\n",
    "    loss = mse_loss(y_pred, y_train)\n",
    "    \n",
    "    # Backward pass\n",
    "    loss.backward()\n",
    "    \n",
    "    # Update parameters\n",
    "    with torch.no_grad():\n",
    "        W -= learning_rate * W.grad\n",
    "        b -= learning_rate * b.grad\n",
    "    \n",
    "    # Zero gradients\n",
    "    W.grad.zero_()\n",
    "    b.grad.zero_()\n",
    "    \n",
    "    # Print loss every 10 epochs\n",
    "    if (epoch+1) % 10 == 0:\n",
    "        print(f'Epoch {epoch+1}: Loss = {loss.item():.4f}')\n"
   ]
  },
  {
   "cell_type": "code",
   "execution_count": null,
   "id": "398c213d",
   "metadata": {},
   "outputs": [],
   "source": []
  },
  {
   "cell_type": "markdown",
   "id": "e965b98f",
   "metadata": {},
   "source": [
    "## 📚 Section 9: Plotting Loss over Epochs"
   ]
  },
  {
   "cell_type": "markdown",
   "id": "38c45c22",
   "metadata": {},
   "source": [
    "### 🎯 Objective: Visualize Loss Over Epochs\n",
    "\n",
    "- **Visualize** how the loss changes over training epochs  \n",
    "- Help students **see convergence** of the model (i.e., loss decreasing over time)  \n",
    "- Introduce basic **matplotlib plotting** to monitor training progress\n",
    "\n",
    "---\n",
    "\n",
    "### 🛠️ Your Task:\n",
    "\n",
    "1. Track the loss at each epoch in a list (e.g., `losses = []`)  \n",
    "2. After training, use `matplotlib.pyplot` to plot loss vs. epoch  \n",
    "3. Label your axes: `Epoch` (x-axis) and `Loss` (y-axis)  \n",
    "4. Add a title like `\"Training Loss Over Time\"`\n",
    "\n",
    "---\n",
    "\n",
    "📌 *This helps build intuition about when a model is learning and when it might be stuck!*\n"
   ]
  },
  {
   "cell_type": "markdown",
   "id": "958c085d",
   "metadata": {},
   "source": [
    "#### 🧠 Markdown Cell 9.1: Why Plot Training Loss?"
   ]
  },
  {
   "cell_type": "markdown",
   "id": "839fcd2b",
   "metadata": {},
   "source": [
    "### 9.1 Why Plot Training Loss?\n",
    "\n",
    "✅ During training, it’s important to **track the loss over time**:\n",
    "\n",
    "- If the loss **decreases smoothly**, your model is learning properly.\n",
    "- If the loss **bounces around wildly** or **increases**, there might be problems:\n",
    "  - Too large learning rate\n",
    "  - Bugs in your code\n",
    "  - Bad initialization\n",
    "\n",
    "---\n",
    "\n",
    "🔵 **Good training behavior:**\n",
    "- Loss starts high and **decreases steadily** toward a small value.\n",
    "\n",
    "🔵 **Bad training behavior:**\n",
    "- Loss increases, oscillates wildly, or gets stuck high.\n",
    "\n",
    "✅ Visualizing the loss helps us **debug** and **understand training dynamics**!\n",
    "\n",
    "---\n"
   ]
  },
  {
   "cell_type": "markdown",
   "id": "cd4fbfa8",
   "metadata": {},
   "source": [
    "#### ✍️ Practice Task 9.1: Plot Loss (Students code)"
   ]
  },
  {
   "cell_type": "markdown",
   "id": "7e642ca7",
   "metadata": {},
   "source": [
    "### 🛠️ Practice Exercise 9.1\n",
    "\n",
    "✅ Your Task:\n",
    "\n",
    "- While training your model (Section 8), **store the loss value at every epoch**.\n",
    "- After training, **plot the loss curve** using matplotlib.\n",
    "\n",
    "---\n",
    "\n",
    "🔔 *Hints:*\n",
    "- Create an empty list before training: `losses = []`\n",
    "- Inside the training loop, after computing loss, do: `losses.append(loss.item())`\n",
    "- After training:\n",
    "  ```python\n",
    "  import matplotlib.pyplot as plt\n",
    "  plt.plot(losses)\n",
    "  plt.xlabel('Epoch')\n",
    "  plt.ylabel('Loss')\n",
    "  plt.title('Training Loss over Epochs')\n",
    "  plt.show()\n"
   ]
  },
  {
   "cell_type": "code",
   "execution_count": null,
   "id": "caa3831f",
   "metadata": {},
   "outputs": [],
   "source": []
  },
  {
   "cell_type": "code",
   "execution_count": 37,
   "id": "de6d58d4",
   "metadata": {},
   "outputs": [
    {
     "data": {
      "image/png": "[encoded data removed]",
      "text/plain": [
       "<Figure size 640x480 with 1 Axes>"
      ]
     },
     "metadata": {},
     "output_type": "display_data"
    }
   ],
   "source": [
    "\n",
    "# ✅ Again, **Markdown gives enough instructions**, students must **write the code** properly.\n",
    "\n",
    "## 🖥️ Expected internal solution (not shown to students)\n",
    "\n",
    "import matplotlib.pyplot as plt\n",
    "\n",
    "losses = []\n",
    "\n",
    "# (inside training loop)\n",
    "losses.append(loss.item())\n",
    "\n",
    "# (after training)\n",
    "plt.plot(losses)\n",
    "plt.xlabel('Epoch')\n",
    "plt.ylabel('Loss')\n",
    "plt.title('Training Loss over Epochs')\n",
    "plt.show()\n"
   ]
  },
  {
   "cell_type": "markdown",
   "id": "5896fe1a",
   "metadata": {},
   "source": [
    "## 📚 Section 10: Model Evaluation (Train/Test MSE)"
   ]
  },
  {
   "cell_type": "markdown",
   "id": "435b0752",
   "metadata": {},
   "source": [
    "### 🎯 Objective: Evaluate the Model After Training\n",
    "\n",
    "Now that training is complete, it's time to **evaluate the model's performance**.\n",
    "\n",
    "---\n",
    "\n",
    "### 🛠️ Your Task:\n",
    "\n",
    "- Compute **Mean Squared Error (MSE)** on:\n",
    "  - ✅ **Training set**\n",
    "  - ✅ **Testing set**\n",
    "\n",
    "- Compare the two results:\n",
    "  - Is the model performing similarly on both?\n",
    "  - Or is it doing much better on training data?\n",
    "\n",
    "---\n",
    "\n",
    "### 🔍 Key Concept: Overfitting vs. Underfitting\n",
    "\n",
    "- **Overfitting:** Model performs well on training data but poorly on unseen test data  \n",
    "- **Underfitting:** Model performs poorly on both training and test data (hasn't learned enough)\n",
    "\n",
    "📌 *Use this evaluation to reflect on your model's generalization ability.*\n"
   ]
  },
  {
   "cell_type": "markdown",
   "id": "335ba5ac",
   "metadata": {},
   "source": [
    "#### 🧠 Markdown Cell 10.1: Evaluating Model Performance"
   ]
  },
  {
   "cell_type": "markdown",
   "id": "7313c32f",
   "metadata": {},
   "source": [
    "### 10.1 Evaluating Model Performance\n",
    "\n",
    "✅ After training a model, we need to **measure how well it performs**:\n",
    "\n",
    "- **Training MSE**: How well the model fits the data it was trained on.\n",
    "- **Testing MSE**: How well the model generalizes to unseen data.\n",
    "\n",
    "---\n",
    "\n",
    "🔵 **Ideal Scenario:**\n",
    "- Low training MSE\n",
    "- Low testing MSE (slightly higher than training MSE)\n",
    "\n",
    "🔵 **Possible Problems:**\n",
    "- **Overfitting**: Very low training MSE but high testing MSE.\n",
    "- **Underfitting**: High training MSE and high testing MSE.\n",
    "\n",
    "✅ Evaluating both gives us a **full picture** of model performance!\n",
    "\n",
    "---\n"
   ]
  },
  {
   "cell_type": "markdown",
   "id": "198ce49c",
   "metadata": {},
   "source": [
    "### ✍️ Practice Task 10.1: Compute Train and Test MSE "
   ]
  },
  {
   "cell_type": "markdown",
   "id": "299dbc6d",
   "metadata": {},
   "source": [
    "### 🛠️ Practice Exercise 10.1\n",
    "\n",
    "✅ Your Task:\n",
    "\n",
    "- After training your model:\n",
    "  1. Use your final trained `W` and `b`.\n",
    "  2. Predict on both:\n",
    "     - Training set (`X_train`)\n",
    "     - Testing set (`X_test`)\n",
    "  3. Compute the MSE loss for:\n",
    "     - Training predictions vs `y_train`\n",
    "     - Testing predictions vs `y_test`\n",
    "  4. Print both losses.\n",
    "\n",
    "---\n",
    "\n",
    "🔔 *Hints:*\n",
    "- Reuse your `predict()` function and `mse_loss()` function.\n",
    "- You **don't need gradients** now (just predictions + loss).\n",
    "\n",
    "✅ You will get two numbers:\n",
    "- Training Loss\n",
    "- Testing Loss\n",
    "\n",
    "---\n"
   ]
  },
  {
   "cell_type": "markdown",
   "id": "388bf5b6",
   "metadata": {},
   "source": [
    "### 🖥️ Expected internal solution (not shown to students)"
   ]
  },
  {
   "cell_type": "code",
   "execution_count": 38,
   "id": "a857190f",
   "metadata": {},
   "outputs": [
    {
     "ename": "RuntimeError",
     "evalue": "mat1 and mat2 shapes cannot be multiplied (824x8 and 1x1)",
     "output_type": "error",
     "traceback": [
      "\u001b[1;31m---------------------------------------------------------------------------\u001b[0m",
      "\u001b[1;31mRuntimeError\u001b[0m                              Traceback (most recent call last)",
      "Cell \u001b[1;32mIn[38], line 2\u001b[0m\n\u001b[0;32m      1\u001b[0m \u001b[38;5;66;03m# Predict on training set\u001b[39;00m\n\u001b[1;32m----> 2\u001b[0m train_preds \u001b[38;5;241m=\u001b[39m \u001b[43mpredict\u001b[49m\u001b[43m(\u001b[49m\u001b[43mX_train\u001b[49m\u001b[43m)\u001b[49m\n\u001b[0;32m      3\u001b[0m train_loss \u001b[38;5;241m=\u001b[39m mse_loss(train_preds, y_train)\n\u001b[0;32m      5\u001b[0m \u001b[38;5;66;03m# Predict on testing set\u001b[39;00m\n",
      "Cell \u001b[1;32mIn[33], line 13\u001b[0m, in \u001b[0;36mpredict\u001b[1;34m(X)\u001b[0m\n\u001b[0;32m     12\u001b[0m \u001b[38;5;28;01mdef\u001b[39;00m \u001b[38;5;21mpredict\u001b[39m(X):\n\u001b[1;32m---> 13\u001b[0m     \u001b[38;5;28;01mreturn\u001b[39;00m \u001b[43mtorch\u001b[49m\u001b[38;5;241;43m.\u001b[39;49m\u001b[43mmatmul\u001b[49m\u001b[43m(\u001b[49m\u001b[43mX\u001b[49m\u001b[43m,\u001b[49m\u001b[43m \u001b[49m\u001b[43mW\u001b[49m\u001b[43m)\u001b[49m \u001b[38;5;241m+\u001b[39m b\n",
      "\u001b[1;31mRuntimeError\u001b[0m: mat1 and mat2 shapes cannot be multiplied (824x8 and 1x1)"
     ]
    }
   ],
   "source": [
    "# Predict on training set\n",
    "train_preds = predict(X_train)\n",
    "train_loss = mse_loss(train_preds, y_train)\n",
    "\n",
    "# Predict on testing set\n",
    "test_preds = predict(X_test)\n",
    "test_loss = mse_loss(test_preds, y_test)\n",
    "\n",
    "print(f'Training MSE: {train_loss.item():.4f}')\n",
    "print(f'Testing MSE: {test_loss.item():.4f}')\n"
   ]
  },
  {
   "cell_type": "markdown",
   "id": "029047d6",
   "metadata": {},
   "source": [
    "## 📚 Section 11: Reflection — Limits of Linear Models"
   ]
  },
  {
   "cell_type": "markdown",
   "id": "dc5bb79c",
   "metadata": {},
   "source": [
    "### 🎯 Objective: Wrap-Up and Transition\n",
    "\n",
    "- Reflect on what we’ve achieved using **linear regression**  \n",
    "- Realize the **limitations** of simple linear models  \n",
    "- Introduce the need for **activation functions** and **hidden layers** to capture complex patterns  \n",
    "- Prepare to **transition naturally** to upcoming notebooks on neural networks\n",
    "\n",
    "---\n",
    "\n",
    "### 🔍 What We've Achieved:\n",
    "\n",
    "- Built a working linear model from scratch\n",
    "- Understood gradient descent and manual training loops\n",
    "- Visualized training progress and evaluated model performance\n",
    "\n",
    "---\n",
    "\n",
    "### 🚧 Limitations of Linear Models:\n",
    "\n",
    "- Can only model **linear relationships**\n",
    "- Cannot capture **non-linear patterns** or **interactions**\n",
    "- Often **underfit** complex real-world datasets\n",
    "\n",
    "---\n",
    "\n",
    "### 🔑 Why Activation Functions and Hidden Layers?\n",
    "\n",
    "- **Activation functions** introduce non-linearity  \n",
    "- **Hidden layers** allow the model to learn more abstract representations  \n",
    "- Together, they form the foundation of **neural networks**\n",
    "\n",
    "---\n",
    "\n",
    "### 🧠 Quick Check (Mini MCQs)\n",
    "\n",
    "**Q1.** Which of the following is a limitation of linear regression?  \n",
    "(A) It requires a loss function  \n",
    "(B) It only models linear relationships ✅  \n",
    "(C) It doesn't use any math  \n",
    "(D) It can't be implemented in PyTorch\n",
    "\n",
    "---\n",
    "\n",
    "**Q2.** Why do we need activation functions in a neural network?  \n",
    "(A) To reduce the training time  \n",
    "(B) To remove weights and biases  \n",
    "(C) To introduce non-linearity ✅  \n",
    "(D) To make the model linear\n",
    "\n",
    "---\n",
    "\n",
    "🎉 *Well done! You're now ready to explore neural networks and go beyond linear models.*\n"
   ]
  },
  {
   "cell_type": "code",
   "execution_count": null,
   "id": "1cfacf62",
   "metadata": {},
   "outputs": [],
   "source": []
  },
  {
   "cell_type": "markdown",
   "id": "24b70080",
   "metadata": {},
   "source": [
    "### 🧠 Markdown Cell 11.1: How Well Did the Linear Model Work?"
   ]
  },
  {
   "cell_type": "markdown",
   "id": "b67fa188",
   "metadata": {},
   "source": [
    "## 11.1 Reflecting on Linear Models\n",
    "\n",
    "✅ Congratulations! You have now:\n",
    "\n",
    "- Built a linear model from scratch.\n",
    "- Used gradient descent to minimize the MSE loss.\n",
    "- Evaluated model performance on training and testing data.\n",
    "\n",
    "---\n",
    "\n",
    "🔵 **Some Important Observations:**\n",
    "\n",
    "- A linear model can capture **linear relationships** between inputs and outputs.\n",
    "- But if the relationship is **nonlinear** (curved, complex patterns), a linear model **cannot fit well**.\n",
    "\n",
    "---\n",
    "\n",
    "### 🔥 Key Limitations of Linear Models:\n",
    "\n",
    "| Limitation | Description |\n",
    "|:---|:---|\n",
    "| Cannot model nonlinear patterns | Only straight lines or flat planes |\n",
    "| Underfitting on complex data | Cannot capture intricate relationships |\n",
    "| No internal \"processing\" | Single-layer transformations only |\n",
    "\n",
    "---\n",
    "\n",
    "✅ **This is why** in Deep Learning, we often:\n",
    "- Add **hidden layers**.\n",
    "- Use **activation functions** (like ReLU, Sigmoid).\n",
    "- Stack **multiple layers** to build complex models.\n",
    "\n",
    "✅ Hidden layers allow the network to **transform** and **learn nonlinear mappings** between input and output!\n",
    "\n",
    "---\n"
   ]
  },
  {
   "cell_type": "markdown",
   "id": "73d1e584",
   "metadata": {},
   "source": [
    "## ✍️ Practice Task 11.1: Quick MCQs (Knowledge Check)"
   ]
  },
  {
   "cell_type": "markdown",
   "id": "3fb715b0",
   "metadata": {},
   "source": [
    "## 🛠️ Practice Exercise 11.1 (MCQs)\n",
    "\n",
    "✅ Choose the correct answers based on your learning so far:\n",
    "\n",
    "---\n",
    "\n",
    "**Q1. Why does a simple linear model fail on complex datasets?**\n",
    "\n",
    "- [ ] It memorizes the training data.\n",
    "- [x] It cannot capture nonlinear patterns.\n",
    "- [ ] It uses too many layers.\n",
    "- [ ] It overfits easily.\n",
    "\n",
    "---\n",
    "\n",
    "**Q2. What is the main purpose of adding activation functions in a neural network?**\n",
    "\n",
    "- [x] To introduce nonlinearity\n",
    "- [ ] To make training faster\n",
    "- [ ] To remove bias\n",
    "- [ ] To reduce the number of parameters\n",
    "\n",
    "---\n",
    "\n",
    "**Q3. After training a model, a very low training loss but very high test loss suggests:**\n",
    "\n",
    "- [ ] Good generalization\n",
    "- [x] Overfitting\n",
    "- [ ] Underfitting\n",
    "- [ ] Correct model complexity\n",
    "\n",
    "---\n",
    "\n",
    "✅ Write your selected answers clearly below each question.\n",
    "✅ Reflect briefly (1–2 sentences) on **what you found easy or difficult** in building your first model!\n",
    "\n",
    "---\n"
   ]
  },
  {
   "cell_type": "markdown",
   "id": "e8deacec",
   "metadata": {},
   "source": [
    "# 🎯 Final Words for Notebook 2\n",
    "\n",
    "✅ In this project, you have learned how to:\n",
    "\n",
    "- Build a basic linear model.\n",
    "- Train it using gradient descent.\n",
    "- Understand model evaluation.\n",
    "\n",
    "---\n",
    "\n",
    "🚀 Next, we will explore **Activation Functions** and **Hidden Layers** to move beyond simple linear models!\n",
    "\n",
    "Stay curious! 🎯✨\n",
    "\n",
    "---\n"
   ]
  }
 ],
 "metadata": {
  "kernelspec": {
   "display_name": "3.10.11",
   "language": "python",
   "name": "python3"
  },
  "language_info": {
   "codemirror_mode": {
    "name": "ipython",
    "version": 3
   },
   "file_extension": ".py",
   "mimetype": "text/x-python",
   "name": "python",
   "nbconvert_exporter": "python",
   "pygments_lexer": "ipython3",
   "version": "3.10.11"
  }
 },
 "nbformat": 4,
 "nbformat_minor": 5
}
