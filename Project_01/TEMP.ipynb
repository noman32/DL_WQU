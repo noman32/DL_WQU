{
 "cells": [
  {
   "cell_type": "markdown",
   "id": "fe035289",
   "metadata": {},
   "source": [
    "<div style=\"background-color: black; color: white; padding: 10px; border-radius: 5px;\">\n",
    "🧠"
   ]
  }
 ],
 "metadata": {
  "language_info": {
   "name": "python"
  }
 },
 "nbformat": 4,
 "nbformat_minor": 5
}
