{
 "cells": [
  {
   "cell_type": "markdown",
   "id": "81c42f8f",
   "metadata": {},
   "source": [
    "## Notebook 04"
   ]
  },
  {
   "cell_type": "markdown",
   "id": "76d39108",
   "metadata": {},
   "source": [
    "### **1. From Manual Networks to PyTorch – Why Abstract?**\n",
    "\n",
    "In the last notebook, we **manually implemented**:\n",
    "\n",
    "- A feedforward neural network (FNN)\n",
    "- A forward pass to compute predictions\n",
    "- A backward pass using the chain rule\n",
    "- Weight updates using **Stochastic Gradient Descent (SGD)**\n",
    "\n",
    "✅ That helped us build **intuition** for how neural networks learn.\n",
    "\n",
    "But as we scale up...\n",
    "\n",
    "> 💡 Real-world models have:\n",
    "> - Many layers and neurons\n",
    "> - Millions of weights\n",
    "> - Complex loss functions\n",
    "> - Multiple datasets and devices\n",
    "> - The need for rapid experimentation\n",
    "\n",
    "Manually coding all that becomes:\n",
    "\n",
    "❌ Tedious  \n",
    "❌ Error-prone  \n",
    "❌ Slow to iterate\n",
    "\n",
    "**What PyTorch Automates For Us**\n",
    "\n",
    "| Task                         | Manual (NB03)     | PyTorch (NB04)        |\n",
    "|------------------------------|-------------------|------------------------|\n",
    "| Forward pass                 | You wrote it      | Handled by `nn.Module` |\n",
    "| Gradient computation         | You derived it    | Handled by `autograd`  |\n",
    "| Weight update (SGD)          | You coded it      | Handled by `optimizer.step()` |\n",
    "| Loss calculation             | You used MSE      | We’ll use `BCELoss` / `BCEWithLogitsLoss` |\n",
    "| Batch handling / vector ops  | You looped        | Efficient tensor ops   |\n",
    "\n",
    "\n",
    "**The Philosophy of Using Frameworks**\n",
    "\n",
    "We don’t use PyTorch because we *can’t* do it ourselves —  \n",
    "we use it because it lets us focus on **designing**, **training**, and **improving** models — not on reinventing gradient mechanics.\n",
    "\n",
    "\n",
    "**What We'll Do in This Notebook**\n",
    "\n",
    "Now, we’ll build a similar FNN using PyTorch tools:\n",
    "\n",
    "- Load and preprocess the **Heart Disease dataset**\n",
    "- Define a model using `nn.Module` or `nn.Sequential`\n",
    "- Train it using `BCEWithLogitsLoss` and `Adam` optimizer\n",
    "- Evaluate performance and visualize results\n",
    "\n",
    "**What You'll Learn**\n",
    "\n",
    "- How to define a deep learning model with PyTorch\n",
    "- How to preprocess real-world tabular data\n",
    "- How to train, monitor, and evaluate a binary classifier\n",
    "- How to bridge theory → practice\n",
    "\n",
    "---"
   ]
  },
  {
   "cell_type": "markdown",
   "id": "8a760ab5",
   "metadata": {},
   "source": [
    "### **2. Dataset Preparation – Heart Disease Data**\n",
    "\n",
    "Before we train a PyTorch model, we need to **load**, **clean**, and **prepare** the Heart Disease dataset.\n",
    "\n",
    "**About the Dataset**\n",
    "\n",
    "This dataset comes from the **UCI Machine Learning Repository** and contains:\n",
    "\n",
    "- **Patient characteristics** (e.g., age, sex, cholesterol)\n",
    "- **Medical test results**\n",
    "- A **target label** (`num`) indicating presence or absence of heart disease\n",
    "\n",
    "**Goal for This Notebook**\n",
    "\n",
    "We’ll perform **binary classification**:  \n",
    "Does a person have heart disease?\n",
    "\n",
    "Let’s **simplify the target** into 2 classes:\n",
    "\n",
    "- `0` → No disease  \n",
    "- `1` → Disease present (merge 1, 2, 3, 4)"
   ]
  },
  {
   "cell_type": "code",
   "execution_count": 20,
   "id": "c7815a3d",
   "metadata": {},
   "outputs": [
    {
     "name": "stdout",
     "output_type": "stream",
     "text": [
      "(303, 14)\n",
      "   age  sex  cp  trestbps  chol  fbs  restecg  thalach  exang  oldpeak  slope  \\\n",
      "0   63    1   1       145   233    1        2      150      0      2.3      3   \n",
      "1   67    1   4       160   286    0        2      108      1      1.5      2   \n",
      "2   67    1   4       120   229    0        2      129      1      2.6      2   \n",
      "3   37    1   3       130   250    0        0      187      0      3.5      3   \n",
      "4   41    0   2       130   204    0        2      172      0      1.4      1   \n",
      "\n",
      "    ca  thal  num  \n",
      "0  0.0   6.0    0  \n",
      "1  3.0   3.0    2  \n",
      "2  2.0   7.0    1  \n",
      "3  0.0   3.0    0  \n",
      "4  0.0   3.0    0  \n"
     ]
    }
   ],
   "source": [
    "import pandas as pd\n",
    "\n",
    "# Load data\n",
    "df = pd.read_csv(\"heart.csv\")\n",
    "print(df.shape)\n",
    "print(df.head())"
   ]
  },
  {
   "cell_type": "markdown",
   "id": "c68bc626",
   "metadata": {},
   "source": [
    "**Check for Missing Values**"
   ]
  },
  {
   "cell_type": "code",
   "execution_count": 2,
   "id": "7623d0b0",
   "metadata": {},
   "outputs": [
    {
     "name": "stdout",
     "output_type": "stream",
     "text": [
      "<class 'pandas.core.frame.DataFrame'>\n",
      "RangeIndex: 303 entries, 0 to 302\n",
      "Data columns (total 14 columns):\n",
      " #   Column    Non-Null Count  Dtype  \n",
      "---  ------    --------------  -----  \n",
      " 0   age       303 non-null    int64  \n",
      " 1   sex       303 non-null    int64  \n",
      " 2   cp        303 non-null    int64  \n",
      " 3   trestbps  303 non-null    int64  \n",
      " 4   chol      303 non-null    int64  \n",
      " 5   fbs       303 non-null    int64  \n",
      " 6   restecg   303 non-null    int64  \n",
      " 7   thalach   303 non-null    int64  \n",
      " 8   exang     303 non-null    int64  \n",
      " 9   oldpeak   303 non-null    float64\n",
      " 10  slope     303 non-null    int64  \n",
      " 11  ca        299 non-null    float64\n",
      " 12  thal      301 non-null    float64\n",
      " 13  num       303 non-null    int64  \n",
      "dtypes: float64(3), int64(11)\n",
      "memory usage: 33.3 KB\n"
     ]
    },
    {
     "data": {
      "application/vnd.microsoft.datawrangler.viewer.v0+json": {
       "columns": [
        {
         "name": "index",
         "rawType": "object",
         "type": "string"
        },
        {
         "name": "0",
         "rawType": "int64",
         "type": "integer"
        }
       ],
       "ref": "6076f90e-eb72-45a5-9f49-19c5acefd291",
       "rows": [
        [
         "age",
         "0"
        ],
        [
         "sex",
         "0"
        ],
        [
         "cp",
         "0"
        ],
        [
         "trestbps",
         "0"
        ],
        [
         "chol",
         "0"
        ],
        [
         "fbs",
         "0"
        ],
        [
         "restecg",
         "0"
        ],
        [
         "thalach",
         "0"
        ],
        [
         "exang",
         "0"
        ],
        [
         "oldpeak",
         "0"
        ],
        [
         "slope",
         "0"
        ],
        [
         "ca",
         "4"
        ],
        [
         "thal",
         "2"
        ],
        [
         "num",
         "0"
        ]
       ],
       "shape": {
        "columns": 1,
        "rows": 14
       }
      },
      "text/plain": [
       "age         0\n",
       "sex         0\n",
       "cp          0\n",
       "trestbps    0\n",
       "chol        0\n",
       "fbs         0\n",
       "restecg     0\n",
       "thalach     0\n",
       "exang       0\n",
       "oldpeak     0\n",
       "slope       0\n",
       "ca          4\n",
       "thal        2\n",
       "num         0\n",
       "dtype: int64"
      ]
     },
     "execution_count": 2,
     "metadata": {},
     "output_type": "execute_result"
    }
   ],
   "source": [
    "df.info()\n",
    "df.isnull().sum()"
   ]
  },
  {
   "cell_type": "markdown",
   "id": "32eae79e",
   "metadata": {},
   "source": [
    "We will drop rows with missing values to keep things simple."
   ]
  },
  {
   "cell_type": "code",
   "execution_count": 21,
   "id": "90eba463",
   "metadata": {},
   "outputs": [
    {
     "name": "stdout",
     "output_type": "stream",
     "text": [
      "Remaining rows: 297\n"
     ]
    }
   ],
   "source": [
    "df = df.dropna()\n",
    "print(\"Remaining rows:\", df.shape[0])"
   ]
  },
  {
   "cell_type": "markdown",
   "id": "e6447b2a",
   "metadata": {},
   "source": [
    "**Simplify the Target**\n",
    "\n",
    "We will convert `num` (0–4) into a binary label."
   ]
  },
  {
   "cell_type": "code",
   "execution_count": 4,
   "id": "2b5ba684",
   "metadata": {},
   "outputs": [
    {
     "data": {
      "application/vnd.microsoft.datawrangler.viewer.v0+json": {
       "columns": [
        {
         "name": "target",
         "rawType": "int64",
         "type": "integer"
        },
        {
         "name": "count",
         "rawType": "int64",
         "type": "integer"
        }
       ],
       "ref": "13b3a1e2-e32d-490c-84ab-8ca16225b2d4",
       "rows": [
        [
         "0",
         "160"
        ],
        [
         "1",
         "137"
        ]
       ],
       "shape": {
        "columns": 1,
        "rows": 2
       }
      },
      "text/plain": [
       "target\n",
       "0    160\n",
       "1    137\n",
       "Name: count, dtype: int64"
      ]
     },
     "execution_count": 4,
     "metadata": {},
     "output_type": "execute_result"
    }
   ],
   "source": [
    "df['target'] = df['num'].apply(lambda x: 1 if x > 0 else 0)\n",
    "df['target'].value_counts()"
   ]
  },
  {
   "cell_type": "markdown",
   "id": "4d652092",
   "metadata": {},
   "source": [
    "**Select Features**\n",
    "\n",
    "We’ll use **all 13 input columns** (excluding the original `num`),  \n",
    "and predict the new `target`."
   ]
  },
  {
   "cell_type": "code",
   "execution_count": 5,
   "id": "8f60afef",
   "metadata": {},
   "outputs": [],
   "source": [
    "X = df.drop(columns=['num', 'target'])\n",
    "y = df['target']"
   ]
  },
  {
   "cell_type": "markdown",
   "id": "ee0d879d",
   "metadata": {},
   "source": [
    "**Normalize the Input Features**\n",
    "\n",
    "To improve training, we **standardize** input features (mean = 0, std = 1)."
   ]
  },
  {
   "cell_type": "code",
   "execution_count": 6,
   "id": "800315de",
   "metadata": {},
   "outputs": [],
   "source": [
    "from sklearn.preprocessing import StandardScaler\n",
    "\n",
    "scaler = StandardScaler()\n",
    "X_scaled = scaler.fit_transform(X)"
   ]
  },
  {
   "cell_type": "markdown",
   "id": "955a54c4",
   "metadata": {},
   "source": [
    "**Train/Test Split**\n",
    "\n",
    "Let’s split the dataset into:\n",
    "- 80% training\n",
    "- 20% testing"
   ]
  },
  {
   "cell_type": "code",
   "execution_count": 22,
   "id": "44041d7d",
   "metadata": {},
   "outputs": [
    {
     "name": "stdout",
     "output_type": "stream",
     "text": [
      "Train size: 237\n",
      "Test size: 60\n"
     ]
    }
   ],
   "source": [
    "from sklearn.model_selection import train_test_split\n",
    "import torch\n",
    "\n",
    "# Convert to PyTorch tensors\n",
    "X_tensor = torch.tensor(X_scaled, dtype=torch.float32)\n",
    "y_tensor = torch.tensor(y.values, dtype=torch.float32).view(-1, 1)\n",
    "\n",
    "# Split\n",
    "X_train, X_test, y_train, y_test = train_test_split(\n",
    "    X_tensor, y_tensor, test_size=0.2, random_state=42\n",
    ")\n",
    "\n",
    "print(\"Train size:\", X_train.shape[0])\n",
    "print(\"Test size:\", X_test.shape[0])"
   ]
  },
  {
   "cell_type": "markdown",
   "id": "b56bb193",
   "metadata": {},
   "source": [
    "\n",
    "✅ We now have a fully cleaned, scaled, and split dataset — ready to be used in a PyTorch model!\n",
    "\n",
    "➡️ In the next section, we’ll define our **Feedforward Neural Network** model architecture using `nn.Sequential`.\n",
    "\n",
    "---"
   ]
  },
  {
   "cell_type": "markdown",
   "id": "fdb7b249",
   "metadata": {},
   "source": [
    "### **3. Defining the Model using `nn.Sequential`**\n",
    "\n",
    "Now that we’ve prepared our dataset, let’s define a **Feedforward Neural Network (FNN)** using PyTorch.\n",
    "\n",
    "**Architecture Overview**\n",
    "\n",
    "We’ll build a simple network:\n",
    "\n",
    "- Input: 13 features (from the dataset)\n",
    "- Hidden layer: 16 neurons with ReLU activation\n",
    "- Output: 1 neuron (for binary prediction)\n",
    "\n",
    "📝 We’ll use **`nn.Sequential`** to define this model concisely."
   ]
  },
  {
   "cell_type": "markdown",
   "id": "c0139bf8",
   "metadata": {},
   "source": [
    "**Define FNN with `nn.Sequential`**"
   ]
  },
  {
   "cell_type": "code",
   "execution_count": 23,
   "id": "82baaae6",
   "metadata": {},
   "outputs": [
    {
     "name": "stdout",
     "output_type": "stream",
     "text": [
      "Sequential(\n",
      "  (0): Linear(in_features=13, out_features=16, bias=True)\n",
      "  (1): ReLU()\n",
      "  (2): Linear(in_features=16, out_features=1, bias=True)\n",
      "  (3): Sigmoid()\n",
      ")\n"
     ]
    }
   ],
   "source": [
    "import torch.nn as nn\n",
    "\n",
    "# Define model\n",
    "model = nn.Sequential(\n",
    "    nn.Linear(13, 16),   # Input layer → Hidden layer (13 → 16)\n",
    "    nn.ReLU(),           # Activation\n",
    "    nn.Linear(16, 1),    # Hidden → Output layer (16 → 1)\n",
    "    nn.Sigmoid()         # Output activation for binary classification\n",
    ")\n",
    "\n",
    "# Show architecture\n",
    "print(model)"
   ]
  },
  {
   "cell_type": "markdown",
   "id": "d28e3609",
   "metadata": {},
   "source": [
    "**Why `Sigmoid` at the Output?**\n",
    "\n",
    "- Because we want the model’s output to be a **probability** between 0 and 1.\n",
    "- This matches with the **binary target labels** (0 or 1).\n",
    "- We’ll later use **`BCELoss`** which expects probabilities.\n",
    "\n",
    "**Parameter Count**\n",
    "\n",
    "- Layer 1 (Linear 13 → 16): 13 × 16 weights + 16 biases = 224\n",
    "- Layer 2 (Linear 16 → 1): 16 weights + 1 bias = 17\n",
    "- **Total trainable parameters** = 241\n",
    "\n",
    "➡️ You can confirm this using:"
   ]
  },
  {
   "cell_type": "code",
   "execution_count": 24,
   "id": "1e1aa18e",
   "metadata": {},
   "outputs": [
    {
     "data": {
      "text/plain": [
       "241"
      ]
     },
     "execution_count": 24,
     "metadata": {},
     "output_type": "execute_result"
    }
   ],
   "source": [
    "sum(p.numel() for p in model.parameters())"
   ]
  },
  {
   "cell_type": "markdown",
   "id": "908cf557",
   "metadata": {},
   "source": [
    "**Summary**\n",
    "\n",
    "- Defined a 2-layer FNN with ReLU and Sigmoid\n",
    "- Chose `nn.Sequential` for clarity and simplicity\n",
    "\n",
    "➡️ Next, we’ll define the **loss function and optimizer** to begin training.\n",
    "\n",
    "---"
   ]
  },
  {
   "cell_type": "markdown",
   "id": "8b22fcac",
   "metadata": {},
   "source": [
    "### **4. Loss Function and Optimizer**\n",
    "\n",
    "Now that we have defined our FNN model, we need to specify **how the model learns** from the data.\n",
    "\n",
    "This requires:\n",
    "\n",
    "1. A **loss function**: to measure the model's prediction error  \n",
    "2. An **optimizer**: to update the model’s weights using gradients\n",
    "\n",
    "**Loss Function: `nn.BCELoss`**\n",
    "\n",
    "We are doing **binary classification**, so we’ll use:"
   ]
  },
  {
   "cell_type": "code",
   "execution_count": 10,
   "id": "06e82d71",
   "metadata": {},
   "outputs": [],
   "source": [
    "loss_fn = nn.BCELoss()"
   ]
  },
  {
   "cell_type": "markdown",
   "id": "8d23489f",
   "metadata": {},
   "source": [
    "**Why `BCELoss`?**\n",
    "\n",
    "- It expects model outputs to be **probabilities** (which we get from `Sigmoid`)\n",
    "- It compares predicted probabilities with true binary labels (0 or 1)\n",
    "\n",
    "**Optimizer: `torch.optim.Adam`**\n",
    "\n",
    "For training the model, we use the **Adam** optimizer:"
   ]
  },
  {
   "cell_type": "code",
   "execution_count": 11,
   "id": "2d368379",
   "metadata": {},
   "outputs": [],
   "source": [
    "optimizer = torch.optim.Adam(model.parameters(), lr=0.01)"
   ]
  },
  {
   "cell_type": "markdown",
   "id": "0276fbfc",
   "metadata": {},
   "source": [
    "**Why `Adam`?**\n",
    "\n",
    "- Adaptive learning rate for each parameter\n",
    "- Generally works well as a default choice\n",
    "- Less sensitive to initial learning rate"
   ]
  },
  {
   "cell_type": "markdown",
   "id": "ddea7c64",
   "metadata": {},
   "source": [
    "**Define Loss and Optimizer**"
   ]
  },
  {
   "cell_type": "code",
   "execution_count": 25,
   "id": "4f7fb5c0",
   "metadata": {},
   "outputs": [
    {
     "name": "stdout",
     "output_type": "stream",
     "text": [
      "Loss function: BCELoss()\n",
      "Optimizer: Adam (\n",
      "Parameter Group 0\n",
      "    amsgrad: False\n",
      "    betas: (0.9, 0.999)\n",
      "    capturable: False\n",
      "    differentiable: False\n",
      "    eps: 1e-08\n",
      "    foreach: None\n",
      "    fused: None\n",
      "    lr: 0.01\n",
      "    maximize: False\n",
      "    weight_decay: 0\n",
      ")\n"
     ]
    }
   ],
   "source": [
    "import torch.optim as optim\n",
    "\n",
    "# Loss function: Binary Cross-Entropy\n",
    "loss_fn = nn.BCELoss()\n",
    "\n",
    "# Optimizer: Adam\n",
    "optimizer = optim.Adam(model.parameters(), lr=0.01)\n",
    "\n",
    "print(\"Loss function:\", loss_fn)\n",
    "print(\"Optimizer:\", optimizer)"
   ]
  },
  {
   "cell_type": "markdown",
   "id": "af2ee815",
   "metadata": {},
   "source": [
    "### **What Happens Behind the Scenes?**\n",
    "\n",
    "1. The model makes a prediction: $\\hat{y}$  \n",
    "2. The loss compares $\\hat{y}$ with the true label $y$  \n",
    "3. Gradients are computed via **backpropagation**  \n",
    "4. The optimizer updates the weights to reduce the loss\n",
    "\n",
    "We’ll soon put all this together in the **training loop**.\n",
    "\n",
    "➡️ Let’s now write the full **training loop** to train our FNN on the dataset.\n",
    "\n",
    "---"
   ]
  },
  {
   "cell_type": "markdown",
   "id": "72c7f7a4",
   "metadata": {},
   "source": [
    "### **5. Training the Model (Looping Over Epochs)**\n",
    "\n",
    "Now that we have:\n",
    "\n",
    "- ✅ Defined our model (`nn.Sequential`)\n",
    "- ✅ Chosen a loss function (`BCELoss`)\n",
    "- ✅ Configured the optimizer (`Adam`)\n",
    "\n",
    "…it’s time to **train the model** using the **forward → loss → backward → update** cycle.\n",
    "\n",
    "**Training Steps Recap:**\n",
    "\n",
    "For each epoch:\n",
    "\n",
    "1. **Forward pass** → Compute predictions from input features\n",
    "2. **Loss computation** → How far are we from the true labels?\n",
    "3. **Backward pass** → Compute gradients w.r.t. weights\n",
    "4. **Parameter update** → Optimizer steps in and adjusts weights\n",
    "5. **Zero gradients** → Reset before the next epoch\n",
    "\n",
    "**Epochs and Tracking Loss**\n",
    "\n",
    "- We’ll train for **100 epochs**\n",
    "- Store all training losses in a Python list\n",
    "- Print loss every **10 epochs** to monitor progress"
   ]
  },
  {
   "cell_type": "markdown",
   "id": "58f86c49",
   "metadata": {},
   "source": [
    "### Training Loop"
   ]
  },
  {
   "cell_type": "code",
   "execution_count": 26,
   "id": "1a01ad88",
   "metadata": {},
   "outputs": [
    {
     "name": "stdout",
     "output_type": "stream",
     "text": [
      "Epoch [10/200], Loss: 0.5094\n",
      "Epoch [20/200], Loss: 0.3889\n",
      "Epoch [30/200], Loss: 0.3521\n",
      "Epoch [40/200], Loss: 0.3267\n",
      "Epoch [50/200], Loss: 0.3117\n",
      "Epoch [60/200], Loss: 0.2965\n",
      "Epoch [70/200], Loss: 0.2810\n",
      "Epoch [80/200], Loss: 0.2643\n",
      "Epoch [90/200], Loss: 0.2448\n",
      "Epoch [100/200], Loss: 0.2232\n",
      "Epoch [110/200], Loss: 0.2007\n",
      "Epoch [120/200], Loss: 0.1777\n",
      "Epoch [130/200], Loss: 0.1560\n",
      "Epoch [140/200], Loss: 0.1364\n",
      "Epoch [150/200], Loss: 0.1194\n",
      "Epoch [160/200], Loss: 0.1050\n",
      "Epoch [170/200], Loss: 0.0924\n",
      "Epoch [180/200], Loss: 0.0817\n",
      "Epoch [190/200], Loss: 0.0727\n",
      "Epoch [200/200], Loss: 0.0650\n"
     ]
    }
   ],
   "source": [
    "# Number of epochs\n",
    "num_epochs = 200\n",
    "train_losses = []\n",
    "\n",
    "for epoch in range(num_epochs):\n",
    "    model.train()\n",
    "\n",
    "    # Forward pass\n",
    "    outputs = model(X_train)\n",
    "    loss = loss_fn(outputs, y_train)\n",
    "\n",
    "    # Backward pass and optimization\n",
    "    optimizer.zero_grad()\n",
    "    loss.backward()\n",
    "    optimizer.step()\n",
    "\n",
    "    # Save loss\n",
    "    train_losses.append(loss.item())\n",
    "\n",
    "    # Print every 10 epochs\n",
    "    if (epoch + 1) % 10 == 0:\n",
    "        print(f\"Epoch [{epoch+1}/{num_epochs}], Loss: {loss.item():.4f}\")"
   ]
  },
  {
   "cell_type": "markdown",
   "id": "cd3ee3a6",
   "metadata": {},
   "source": [
    "**Why Are We Doing This?**\n",
    "\n",
    "This loop helps the model **gradually learn** by adjusting weights over many passes through the data.\n",
    "\n",
    "> As loss goes down, predictions should get closer to the true values (0 or 1).\n",
    "\n",
    "In the next section, we’ll **plot the training loss** to visualize learning progress over time.\n",
    "\n",
    "---"
   ]
  },
  {
   "cell_type": "markdown",
   "id": "d3575497",
   "metadata": {},
   "source": [
    "### **6. Plotting the Loss Curve**\n",
    "\n",
    "After training the model, let’s **visualize how the loss decreased over time**.\n",
    "\n",
    "**Why?**\n",
    "\n",
    "- Helps us **diagnose** if the model is learning properly\n",
    "- See if loss **plateaus too early** or decreases smoothly\n",
    "- Understand how the **optimizer is working**\n",
    "\n",
    "**What to Look For**\n",
    "\n",
    "- A **downward trend** over epochs is a good sign\n",
    "- If the curve is very **flat**, maybe learning rate is too low\n",
    "- If the loss **jumps around**, try lower learning rate or more data"
   ]
  },
  {
   "cell_type": "markdown",
   "id": "d88ef6f5",
   "metadata": {},
   "source": [
    "**Plot the Training Loss**"
   ]
  },
  {
   "cell_type": "code",
   "execution_count": 27,
   "id": "6998247c",
   "metadata": {},
   "outputs": [
    {
     "data": {
      "image/png": "[encoded data removed]",
      "text/plain": [
       "<Figure size 800x500 with 1 Axes>"
      ]
     },
     "metadata": {},
     "output_type": "display_data"
    }
   ],
   "source": [
    "import matplotlib.pyplot as plt\n",
    "\n",
    "plt.figure(figsize=(8, 5))\n",
    "plt.plot(range(1, num_epochs + 1), train_losses, linestyle='--', marker='o')\n",
    "plt.title(\"Training Loss Over Epochs\")\n",
    "plt.xlabel(\"Epoch\")\n",
    "plt.ylabel(\"Binary Cross Entropy Loss\")\n",
    "plt.grid(True)\n",
    "plt.show()"
   ]
  },
  {
   "cell_type": "code",
   "execution_count": 28,
   "id": "6d226058",
   "metadata": {},
   "outputs": [
    {
     "data": {
      "text/plain": [
       "array([[123,   1],\n",
       "       [  3, 110]], dtype=int64)"
      ]
     },
     "execution_count": 28,
     "metadata": {},
     "output_type": "execute_result"
    }
   ],
   "source": [
    "# predicting based on train set\n",
    "model.eval()\n",
    "with torch.no_grad():\n",
    "    y_train_pred = model(X_train)\n",
    "    y_train_pred = (y_train_pred > 0.5).float()\n",
    "\n",
    "# confusion matrix\n",
    "from sklearn.metrics import confusion_matrix\n",
    "import seaborn as sns\n",
    "import numpy as np\n",
    "\n",
    "confusion_matrix(y_train, y_train_pred)"
   ]
  },
  {
   "cell_type": "code",
   "execution_count": 34,
   "id": "829821be",
   "metadata": {},
   "outputs": [
    {
     "data": {
      "image/png": "[encoded data removed]",
      "text/plain": [
       "<Figure size 640x480 with 2 Axes>"
      ]
     },
     "metadata": {},
     "output_type": "display_data"
    }
   ],
   "source": [
    "from sklearn.metrics import confusion_matrix, ConfusionMatrixDisplay\n",
    "\n",
    "# Plot confusion matrix\n",
    "cm = confusion_matrix(y_train, y_train_pred)\n",
    "disp = ConfusionMatrixDisplay(confusion_matrix=cm, display_labels=[\"No Disease\", \"Disease\"])\n",
    "disp.plot(cmap=\"Blues\")\n",
    "plt.title(\"Confusion Matrix on train Set\")\n",
    "plt.grid(False)\n",
    "plt.show()\n"
   ]
  },
  {
   "cell_type": "code",
   "execution_count": 36,
   "id": "8de5729a",
   "metadata": {},
   "outputs": [
    {
     "name": "stdout",
     "output_type": "stream",
     "text": [
      "Train Loss: 0.0643\n",
      "Train Accuracy: 47.68%\n"
     ]
    }
   ],
   "source": [
    "from sklearn.metrics import accuracy_score\n",
    "\n",
    "# Put model in evaluation mode\n",
    "model.eval()\n",
    "\n",
    "# Turn off gradient tracking\n",
    "with torch.no_grad():\n",
    "    y_train_logits = model(X_train)\n",
    "    y_train_probs = torch.sigmoid(y_train_logits)\n",
    "    y_train_preds = (y_train_probs >= 0.5).float()  # threshold at 0.5\n",
    "\n",
    "    # Compute test loss\n",
    "    train_loss = loss_fn(y_train_logits, y_train)\n",
    "\n",
    "# Accuracy\n",
    "train_acc = accuracy_score(y_train.numpy(), y_train_preds.numpy())\n",
    "\n",
    "print(f\"Train Loss: {train_loss.item():.4f}\")\n",
    "print(f\"Train Accuracy: {train_acc * 100:.2f}%\")"
   ]
  },
  {
   "cell_type": "markdown",
   "id": "67e9fa63",
   "metadata": {},
   "source": [
    "**What This Tells Us**\n",
    "\n",
    "A **smoothly decreasing loss** suggests that:\n",
    "\n",
    "- The model is learning useful patterns from the training data\n",
    "- The optimizer (Adam) and learning rate are appropriate\n",
    "- We’re likely not underfitting or overfitting — yet\n",
    "\n",
    "\n",
    "> 🔔 Later, we’ll compare this to the **test loss** and accuracy to see how well the model generalizes to unseen data.\n",
    "\n",
    "➡️ Next: Let’s **evaluate the model** on the test set and analyze its performance!\n",
    "\n",
    "---"
   ]
  },
  {
   "cell_type": "markdown",
   "id": "6a1a31c9",
   "metadata": {},
   "source": [
    "### **7. Evaluating the Model on Test Set**\n",
    "\n",
    "Now that we’ve trained our neural network and visualized its training loss, let’s evaluate how well it performs on **unseen data** — the **test set**.\n",
    "\n",
    "**Goals:**\n",
    "\n",
    "- Compute **test loss**\n",
    "- Measure **accuracy**\n",
    "- Show a **confusion matrix**\n",
    "- Interpret what the numbers mean\n",
    "\n",
    "**Key Concept: Generalization**\n",
    "\n",
    "> A good model should perform **well not just on training data**,  \n",
    "> but also on **new, unseen test data**."
   ]
  },
  {
   "cell_type": "markdown",
   "id": "c2ab1fcd",
   "metadata": {},
   "source": [
    "**Evaluate the Model**"
   ]
  },
  {
   "cell_type": "code",
   "execution_count": 37,
   "id": "b50a872e",
   "metadata": {},
   "outputs": [
    {
     "name": "stdout",
     "output_type": "stream",
     "text": [
      "Test Loss: 0.6267\n",
      "Test Accuracy: 40.00%\n"
     ]
    }
   ],
   "source": [
    "# Put model in evaluation mode\n",
    "model.eval()\n",
    "\n",
    "# Turn off gradient tracking\n",
    "with torch.no_grad():\n",
    "    y_test_logits = model(X_test)\n",
    "    y_test_probs = torch.sigmoid(y_test_logits)\n",
    "    y_test_preds = (y_test_probs >= 0.5).float()  # threshold at 0.5\n",
    "\n",
    "    # Compute test loss\n",
    "    test_loss = loss_fn(y_test_logits, y_test)\n",
    "\n",
    "# Accuracy\n",
    "test_acc = accuracy_score(y_test.numpy(), y_test_preds.numpy())\n",
    "\n",
    "print(f\"Test Loss: {test_loss.item():.4f}\")\n",
    "print(f\"Test Accuracy: {test_acc * 100:.2f}%\")"
   ]
  },
  {
   "cell_type": "markdown",
   "id": "d0e061eb",
   "metadata": {},
   "source": [
    "**Confusion Matrix**\n",
    "\n",
    "The **confusion matrix** shows how many samples were:\n",
    "\n",
    "- **Correctly classified** (True Positives and True Negatives)\n",
    "- **Incorrectly classified** (False Positives and False Negatives)"
   ]
  },
  {
   "cell_type": "markdown",
   "id": "02d47e6e",
   "metadata": {},
   "source": [
    "**Plot Confusion Matrix**"
   ]
  },
  {
   "cell_type": "code",
   "execution_count": 38,
   "id": "cbb5b2b7",
   "metadata": {},
   "outputs": [
    {
     "data": {
      "text/plain": [
       "array([[30,  6],\n",
       "       [ 3, 21]], dtype=int64)"
      ]
     },
     "execution_count": 38,
     "metadata": {},
     "output_type": "execute_result"
    }
   ],
   "source": [
    "# predicting based on train set\n",
    "model.eval()\n",
    "with torch.no_grad():\n",
    "    y_test_pred = model(X_test)\n",
    "    y_test_pred = (y_test_pred > 0.5).float()\n",
    "\n",
    "# confusion matrix\n",
    "from sklearn.metrics import confusion_matrix\n",
    "import seaborn as sns\n",
    "import numpy as np\n",
    "\n",
    "confusion_matrix(y_test, y_test_pred)"
   ]
  },
  {
   "cell_type": "code",
   "execution_count": 39,
   "id": "c3ef07e1",
   "metadata": {},
   "outputs": [
    {
     "data": {
      "image/png": "[encoded data removed]",
      "text/plain": [
       "<Figure size 640x480 with 2 Axes>"
      ]
     },
     "metadata": {},
     "output_type": "display_data"
    }
   ],
   "source": [
    "# Plot confusion matrix\n",
    "cm = confusion_matrix(y_test, y_test_pred)\n",
    "disp = ConfusionMatrixDisplay(confusion_matrix=cm, display_labels=[\"No Disease\", \"Disease\"])\n",
    "disp.plot(cmap=\"Blues\")\n",
    "plt.title(\"Confusion Matrix on Test Set\")\n",
    "plt.grid(False)\n",
    "plt.show()"
   ]
  },
  {
   "cell_type": "markdown",
   "id": "5f774a3c",
   "metadata": {},
   "source": [
    "**Interpretation:**\n",
    "\n",
    "- High values on the **diagonal** = good!\n",
    "- Off-diagonal values suggest **misclassifications**\n",
    "- This helps us understand **model strengths and weaknesses**\n",
    "\n",
    "> ✅ If your model shows decent accuracy and balanced predictions, that means it has **learned to generalize** — not just memorize.\n",
    "\n",
    "➡️ In the final section, we’ll reflect on the full process and look ahead to deeper models in the next project.\n",
    "\n",
    "---"
   ]
  },
  {
   "cell_type": "markdown",
   "id": "a84a7ceb",
   "metadata": {},
   "source": [
    "### **8. Reflection + What’s Next**\n",
    "\n",
    "You’ve now completed a **full deep learning pipeline** — from scratch to PyTorch training —  \n",
    "on a real-world binary classification task. 🎉\n",
    "\n",
    "**What We Built in This Notebook**\n",
    "\n",
    "✅ Defined an FNN using PyTorch’s `nn.Sequential` or `nn.Module`  \n",
    "✅ Used **BCEWithLogitsLoss** for binary classification  \n",
    "✅ Trained using **Adam** optimizer  \n",
    "✅ Visualized the **training loss curve**  \n",
    "✅ Evaluated test set performance with **accuracy** and **confusion matrix**\n",
    "\n",
    "**What You Should Now Understand:**\n",
    "\n",
    "- How to structure a neural network in PyTorch\n",
    "- How loss and optimization work in practice\n",
    "- How to use sigmoid activation for binary outputs\n",
    "- What generalization means and how to assess it\n",
    "- How to connect training curves and model performance\n",
    "\n",
    "**Limitations of Our Current Model**\n",
    "\n",
    "- **No regularization** → May overfit with more layers or longer training  \n",
    "- **Small architecture** → Limited ability to capture very complex patterns  \n",
    "- **Manual tuning** of learning rate and size → Suboptimal performance\n",
    "\n",
    "These are exactly the **challenges we’ll address next**.\n",
    "\n",
    "**What’s Coming in Project 3: Training Neural Networks**\n",
    "\n",
    "> “We now know how to build and train a model —  \n",
    "> next, we learn how to train it **better**.”\n",
    "\n",
    "In the next project, we’ll explore:\n",
    "\n",
    "| Topic                    | Why It Matters                                               |\n",
    "|--------------------------|--------------------------------------------------------------|\n",
    "| **Optimizers**        | Learn the math and behavior behind SGD and Adam              |\n",
    "| **Loss Functions**    | MSE vs. Cross-Entropy — when to use which                    |\n",
    "| **Regularization**   | Techniques like Dropout and L2 to prevent overfitting        |\n",
    "| **Mini-batching**     | Train faster and more robustly with batch-wise updates       |\n",
    "| **Advanced Training** | Tips for convergence, learning rate tuning, and early stopping |\n",
    "\n",
    "\n",
    "**Repetition + Transfer**\n",
    "\n",
    "Much of the logic you saw here will **repeat** —  \n",
    "but we’ll **build upon it**, and learn how to make training:\n",
    "\n",
    "- More efficient\n",
    "- More stable\n",
    "- More robust\n",
    "\n",
    "**Final Words**\n",
    "\n",
    "You’ve now seen:\n",
    "\n",
    "- Linear models (NB01)\n",
    "- Non-linear FNNs (NB02)\n",
    "- Manual backpropagation (NB03)\n",
    "- Full PyTorch training (NB04)\n",
    "\n",
    "> You’re now fully equipped to **train deep models**.  \n",
    "> In the next project, we’ll learn to train them **smartly**."
   ]
  }
 ],
 "metadata": {
  "kernelspec": {
   "display_name": "3.10.11",
   "language": "python",
   "name": "python3"
  },
  "language_info": {
   "codemirror_mode": {
    "name": "ipython",
    "version": 3
   },
   "file_extension": ".py",
   "mimetype": "text/x-python",
   "name": "python",
   "nbconvert_exporter": "python",
   "pygments_lexer": "ipython3",
   "version": "3.10.11"
  }
 },
 "nbformat": 4,
 "nbformat_minor": 5
}
